{
  "nbformat": 4,
  "nbformat_minor": 0,
  "metadata": {
    "colab": {
      "name": "AI-4-Isitcom.ipynb",
      "provenance": [],
      "authorship_tag": "ABX9TyO/jueuE/Ln5x7RGfiRDHmm",
      "include_colab_link": true
    },
    "kernelspec": {
      "name": "python3",
      "display_name": "Python 3"
    },
    "language_info": {
      "name": "python"
    },
    "accelerator": "TPU"
  },
  "cells": [
    {
      "cell_type": "markdown",
      "metadata": {
        "id": "view-in-github",
        "colab_type": "text"
      },
      "source": [
        "<a href=\"https://colab.research.google.com/github/AchrefHamdi/Data-Science/blob/main/AI_4_Isitcom.ipynb\" target=\"_parent\"><img src=\"https://colab.research.google.com/assets/colab-badge.svg\" alt=\"Open In Colab\"/></a>"
      ]
    },
    {
      "cell_type": "markdown",
      "metadata": {
        "id": "_0ZHMcTfg4K4"
      },
      "source": [
        "## **Part 1: Data Science**"
      ]
    },
    {
      "cell_type": "code",
      "metadata": {
        "id": "npvq67kOg9xV"
      },
      "source": [
        "import pandas\n",
        "# Data loading\n",
        "# pandas 3andha barcha anwe3 ta3 read, selon type de fichier te3ik\n",
        "dataset = pandas.read_csv(\"https://raw.githubusercontent.com/elyesmanai/Data-Science-Datasets/main/EDA%20-%20pokedex_(Update_05.20).csv\")\n",
        "# lezem .csv fi e5er bech inajem ya9ra l fichier mn lien"
      ],
      "execution_count": null,
      "outputs": []
    },
    {
      "cell_type": "code",
      "metadata": {
        "colab": {
          "base_uri": "https://localhost:8080/"
        },
        "id": "X_Vlx5ZVlqXH",
        "outputId": "a7d28905-c120-4916-cca0-8a93df9607e2"
      },
      "source": [
        "# n7ib na3ref nombres des lignes w colonnes\n",
        "dataset.shape "
      ],
      "execution_count": null,
      "outputs": [
        {
          "output_type": "execute_result",
          "data": {
            "text/plain": [
              "(1028, 51)"
            ]
          },
          "metadata": {},
          "execution_count": 2
        }
      ]
    },
    {
      "cell_type": "code",
      "metadata": {
        "id": "s13unS1rl6Jp"
      },
      "source": [
        "# dataset.columns ta3tina esem les colonnes lkol\n",
        "dataset.columns"
      ],
      "execution_count": null,
      "outputs": []
    },
    {
      "cell_type": "code",
      "metadata": {
        "id": "N22S0kUexiLr"
      },
      "source": [
        "dataset.describe()"
      ],
      "execution_count": null,
      "outputs": []
    },
    {
      "cell_type": "code",
      "metadata": {
        "id": "cjkQCCcdl9LG"
      },
      "source": [
        "# dataset.drop tfasakh des lignes wala des colonnes.\n",
        "# lezim awil parametre ikoun liste [] ta3 les colonnes, w ta3mel axis=1 bch ya3rfou anou colonnes\n",
        "# mahouch bch isir changement à moins que n9olou inplace=True wala na3mel dataset = dataset.drop()\n",
        "dataset.drop(['german_name', 'japanese_name'], axis=1, inplace=True)"
      ],
      "execution_count": null,
      "outputs": []
    },
    {
      "cell_type": "code",
      "metadata": {
        "id": "T-Q7qz0umRw-"
      },
      "source": [
        "# bch nra awil 5 lignes fil data\n",
        "dataset.head()"
      ],
      "execution_count": null,
      "outputs": []
    },
    {
      "cell_type": "code",
      "metadata": {
        "id": "zbLhAYUGmYux"
      },
      "source": [
        "# bch nra e5er 5 lignes fil data\n",
        "dataset.tail()"
      ],
      "execution_count": null,
      "outputs": []
    },
    {
      "cell_type": "code",
      "metadata": {
        "id": "4hq61mmbmcop"
      },
      "source": [
        "# bch nra ligne au hasard\n",
        "dataset.sample()"
      ],
      "execution_count": null,
      "outputs": []
    },
    {
      "cell_type": "code",
      "metadata": {
        "id": "Hz1QgwKomiR9"
      },
      "source": [
        "# info() ta3tini des informations mil bara 3al data\n",
        "# mil bara no9sdou nbr lignes, nbr colonnes, type\n",
        "# 3ala kol colonne 9adeh min valeure nulle et type de colonne\n",
        "# aussi 9adeh min type en total w 9adeh tekil en mémoire\n",
        "dataset.info()"
      ],
      "execution_count": null,
      "outputs": []
    },
    {
      "cell_type": "code",
      "metadata": {
        "id": "4_dx5KmJmx0-"
      },
      "source": [
        "# describe ta3tini des information mil dekhil il data\n",
        "# 3ala kol colonne, 9adeh min valeure, moyenne, std, valeur min, valeur max et distribution\n",
        "dataset.describe()"
      ],
      "execution_count": null,
      "outputs": []
    },
    {
      "cell_type": "code",
      "metadata": {
        "id": "oryL1j4Sm3uz"
      },
      "source": [
        "# isna() ta3tini ken valeur nulle ou pas.\n",
        "# isna().sum() ta3tini 3ala kol colonne 9adeh min valeur nulle\n",
        "# isna().sum().sum() ta3tini fil dataset lkolha 9adeh min valeur nulle\n",
        "dataset.isna().sum()"
      ],
      "execution_count": null,
      "outputs": []
    },
    {
      "cell_type": "code",
      "metadata": {
        "id": "XS4Tqoc8nNnu"
      },
      "source": [
        "# najem naccedi les valeures ta3 colonne en faisant dataframe[nom_colonne]\n",
        "dataset['generation']"
      ],
      "execution_count": null,
      "outputs": []
    },
    {
      "cell_type": "code",
      "metadata": {
        "colab": {
          "base_uri": "https://localhost:8080/"
        },
        "id": "pWsbg9UEnVaA",
        "outputId": "4931b272-f387-42d3-acf6-8dc01e1b02b8"
      },
      "source": [
        "# najem na3ref les valeurs uniques fi une colonne avec unique()\n",
        "vals = dataset['generation'].unique()\n",
        "# najem na3ref les valeurs unique que nunique()\n",
        "nuni = dataset['generation'].nunique()\n",
        "print(vals, nuni)"
      ],
      "execution_count": null,
      "outputs": [
        {
          "output_type": "stream",
          "name": "stdout",
          "text": [
            "[1 2 3 4 5 6 7 8] 8\n"
          ]
        }
      ]
    },
    {
      "cell_type": "code",
      "metadata": {
        "id": "N2DVOz1PnlN9"
      },
      "source": [
        "# avaant changement\n",
        "dataset.rename(columns={'generation':'gen'}, inplace=True)\n",
        "# apres changement\n",
        "#dataset.columns"
      ],
      "execution_count": null,
      "outputs": []
    },
    {
      "cell_type": "code",
      "metadata": {
        "id": "zsXGmwiyn3Pn"
      },
      "source": [
        "# tasna3 colonne jdida ta3mel dataset[ism_jdid] = valeur, valeur tnajem tkoun fonction\n",
        "dataset[\"semi_densité\"] = dataset['weight_kg'] / dataset['height_m']\n",
        "dataset['semi_densité']\n",
        "dataset.columns"
      ],
      "execution_count": null,
      "outputs": []
    },
    {
      "cell_type": "code",
      "metadata": {
        "id": "M7Uln7sVoNkn"
      },
      "source": [
        "# ta3ml plot de colonne attack\n",
        "dataset['defense'].plot()"
      ],
      "execution_count": null,
      "outputs": []
    },
    {
      "cell_type": "code",
      "metadata": {
        "id": "_ERMEjANovwI"
      },
      "source": [
        "# ta3ml plot ll height \n",
        "dataset[dataset['height_m'] < 100 ]['height_m'].plot()"
      ],
      "execution_count": null,
      "outputs": []
    },
    {
      "cell_type": "code",
      "metadata": {
        "colab": {
          "base_uri": "https://localhost:8080/",
          "height": 297
        },
        "id": "PzuQqhs0qVJa",
        "outputId": "4b37ebc9-f4dd-4c91-f261-4364cd8f4abf"
      },
      "source": [
        "# ta3ml plot ama mrra hedhi les x height en metre et y weight en kg \n",
        "# mn le5er n7bou ntal3ou les outliers\n",
        "dataset.plot(x=\"height_m\", y=\"weight_kg\", style=\"o\")"
      ],
      "execution_count": null,
      "outputs": [
        {
          "output_type": "execute_result",
          "data": {
            "text/plain": [
              "<matplotlib.axes._subplots.AxesSubplot at 0x7f3c98088650>"
            ]
          },
          "metadata": {},
          "execution_count": 12
        },
        {
          "output_type": "display_data",
          "data": {
            "image/png": "[encoded data removed]",
            "text/plain": [
              "<Figure size 432x288 with 1 Axes>"
            ]
          },
          "metadata": {
            "needs_background": "light"
          }
        }
      ]
    },
    {
      "cell_type": "code",
      "metadata": {
        "id": "YTtlxODEqyYc"
      },
      "source": [
        "#  refaire le travail sur la meme dataset avec changement de variables\n"
      ],
      "execution_count": null,
      "outputs": []
    },
    {
      "cell_type": "markdown",
      "metadata": {
        "id": "ZAuABxBQrFw_"
      },
      "source": [
        "# Part 2: Core Machine Learning "
      ]
    },
    {
      "cell_type": "code",
      "metadata": {
        "id": "-O48iG0ErOUM"
      },
      "source": [
        "# Imports\n",
        "import pandas\n",
        "import warnings # 3la 5ater ki na3mlou run i5arjna plusieur commentaires m3andhoumch importances kbira donc \n",
        "import seaborn as sns\n",
        "import matplotlib.pyplot as plt\n",
        "warnings.filterwarnings('ignore') # ya3ml.lhm flire w 9otlou ya3ml.lm aussi ignorer\n",
        " "
      ],
      "execution_count": null,
      "outputs": []
    },
    {
      "cell_type": "code",
      "metadata": {
        "id": "SmA1562wr415"
      },
      "source": [
        "# Data loading\n",
        "dataset = pandas.read_csv(\"https://raw.githubusercontent.com/elyesmanai/Datasets-for-ML-trainings/main/dataset_malwares.csv\")"
      ],
      "execution_count": null,
      "outputs": []
    },
    {
      "cell_type": "code",
      "metadata": {
        "colab": {
          "base_uri": "https://localhost:8080/"
        },
        "id": "bKGjKThYr9Gr",
        "outputId": "1de6ad12-5caa-4ccc-bcd1-3ab901c2faa8"
      },
      "source": [
        "# Data Exploration (EDA) & ne5dhou fekra 3la data \n",
        "dataset.shape"
      ],
      "execution_count": null,
      "outputs": [
        {
          "output_type": "execute_result",
          "data": {
            "text/plain": [
              "(19611, 79)"
            ]
          },
          "metadata": {},
          "execution_count": 15
        }
      ]
    },
    {
      "cell_type": "code",
      "metadata": {
        "id": "cjzTa4-FsE0l"
      },
      "source": [
        "dataset.head(3)\n",
        "dataset.tail(3)\n",
        "# 1: il se peut que les virus lkol ismhom virus share\n",
        "# enajem tout simplement na3mel fonction tthabet ken ism il fichier fih virus_share\n",
        "# waleken, il nhar eli yachl9ou il hackers anou 3malna haka, ibadlou esemihom\n",
        "\n",
        "# 2: fama fil names des valeurs fehom extension w fama lé \n",
        "# -> najem na3mel feature engineering: nasna3 colonne jdida ismha extension\n",
        "\n",
        "# Awil haja bch na3mel, ndroppi il colonne name khater n7ibch il modele yit3alem bil esemi"
      ],
      "execution_count": null,
      "outputs": []
    },
    {
      "cell_type": "code",
      "metadata": {
        "id": "Ou-R8gIJsgn-"
      },
      "source": [
        "dataset.drop('Name', axis=1, inplace=True)"
      ],
      "execution_count": null,
      "outputs": []
    },
    {
      "cell_type": "code",
      "metadata": {
        "id": "fTkTPoRZs083"
      },
      "source": [
        "dataset.info()\n",
        "# toutes les colonnes int ou float, ma3netha pas de strings, pas besoin de faire pre-processing"
      ],
      "execution_count": null,
      "outputs": []
    },
    {
      "cell_type": "code",
      "metadata": {
        "id": "F1pzPreLs_xx"
      },
      "source": [
        "# ma3ana 7ata valeure manquante\n",
        "dataset.isna().sum()"
      ],
      "execution_count": null,
      "outputs": []
    },
    {
      "cell_type": "code",
      "metadata": {
        "id": "esycRtgQtFWY"
      },
      "source": [
        "dataset.describe()\n",
        "# fama des colonnes eli mayitbadlouch jimla du coup mayzidounech ma3louma tosla7\n",
        "# najmou nfaskhohom\n"
      ],
      "execution_count": null,
      "outputs": []
    },
    {
      "cell_type": "code",
      "metadata": {
        "id": "FO6Vw3DUtdRA"
      },
      "source": [
        "# METHOD : AUTOMATIC\n",
        "# Il faza hedhi tkhalina nfaskhou toutes les colonnes li fehom une seule valeur\n",
        "for column in dataset.columns:\n",
        "  if dataset[column].nunique() == 1: \n",
        "    dataset.drop(column, axis=1, inplace=True)"
      ],
      "execution_count": null,
      "outputs": []
    },
    {
      "cell_type": "code",
      "metadata": {
        "id": "r5fkXNritkXi"
      },
      "source": [
        "# distribution des classes imbalanced, 3andi akther malwares (1) que mouch malware (0)\n",
        "# possiblement yatla3 il modele biased lil 1 ma3netha yistenis akther i9oul 1 que 0.\n",
        "# train test split lezim nrod beli khater inajem ijini ta9sim khayeb (baaaarcha 1 w chwaya 0)\n",
        "dataset.Malware.hist()"
      ],
      "execution_count": null,
      "outputs": []
    },
    {
      "cell_type": "code",
      "metadata": {
        "id": "ayGnF2t8t448"
      },
      "source": [
        "plt.figure( figsize = (16,16))\n",
        "sns.heatmap(dataset.corr()) #correlation, ya3ni tihsib 9adeh kol variable elle est corrélé (titmecha) m3a les autres variables\n",
        "# seaborn w matplotlib zidnehom khater houma des librairies ta3 tazyin w plots khalewna na3mlou il image"
      ],
      "execution_count": null,
      "outputs": []
    },
    {
      "cell_type": "code",
      "metadata": {
        "id": "oRfcLFOiuMTh"
      },
      "source": [
        "sorted(list(zip(dataset.corr()['Malware'].values, dataset.columns)), reverse=True)\n",
        "# najemou automatiquement nkharjou a9wa les correlations m3a malware wa laken mouch dima précis, inajem ikoun un cas bizhar\n",
        "# les valeures correlent et inajem ikoun co-corellation m3a variables okhrin"
      ],
      "execution_count": null,
      "outputs": []
    },
    {
      "cell_type": "code",
      "metadata": {
        "id": "2CDjvs4Jukh-"
      },
      "source": [
        "# Data Preparation\n",
        "features = dataset[['MajorSubsystemVersion','Subsystem','MajorLinkerVersion','TimeDateStamp','CheckSum']]\n",
        "labels = dataset.Malware"
      ],
      "execution_count": null,
      "outputs": []
    },
    {
      "cell_type": "code",
      "metadata": {
        "id": "ABK6_S1MvAwF"
      },
      "source": [
        "# sklearn feha hal fonction louta li ta3mlelna ta9sim il data b tari9a mnadhma, sehla w efficace\n",
        "# random_state ki t7otha (par défaut None) tkhalik dima tjik nafs il ta9sima ta3 il data\n",
        "# X majuscule w y miniscule, famech 3lech, juste stensou keka w bch tal9aw mo3dham les codes haka\n",
        "from sklearn.model_selection import train_test_split\n",
        "X_train, X_test, y_train, y_test = train_test_split(features, labels, test_size=0.2, random_state=42)"
      ],
      "execution_count": null,
      "outputs": []
    },
    {
      "cell_type": "code",
      "metadata": {
        "id": "gpfuQScSvDiO"
      },
      "source": [
        "# Refaire le programme wa7adkom kif el 3ada avec changements de variables (10 min)"
      ],
      "execution_count": null,
      "outputs": []
    },
    {
      "cell_type": "code",
      "metadata": {
        "id": "qL8zwvJjvY1N"
      },
      "source": [
        "# Modeling LogisticRegression\n",
        "# lezimni se3a n'importi les models\n",
        "from sklearn.linear_model import LogisticRegression\n",
        "from sklearn.neighbors import KNeighborsClassifier\n",
        "from sklearn.svm import SVC\n",
        "from sklearn.tree import DecisionTreeClassifier\n",
        "\n",
        "# lezimni na3mel instance lil model kima fi orienté objet\n",
        "log = LogisticRegression()\n",
        "knn = KNeighborsClassifier()\n",
        "svm = SVC()\n",
        "tree = DecisionTreeClassifier()"
      ],
      "execution_count": null,
      "outputs": []
    },
    {
      "cell_type": "code",
      "metadata": {
        "colab": {
          "base_uri": "https://localhost:8080/"
        },
        "id": "RPboSA4ZwZUU",
        "outputId": "b74474eb-6dc5-40f5-bd85-a281f6f9f73e"
      },
      "source": [
        "# Training\n",
        "for model in [log, svm, knn, tree]:\n",
        "  model.fit(X_train, y_train)\n",
        "  train_acc = model.score(X_train, y_train)\n",
        "  test_acc = model.score(X_test, y_test)\n",
        "  print(round(train_acc,3), round(test_acc,3))"
      ],
      "execution_count": null,
      "outputs": [
        {
          "output_type": "stream",
          "name": "stdout",
          "text": [
            "0.741 0.742\n",
            "0.745 0.748\n",
            "0.983 0.983\n",
            "0.999 0.986\n"
          ]
        }
      ]
    },
    {
      "cell_type": "code",
      "metadata": {
        "id": "16enjB98w-1u"
      },
      "source": [
        "# Repport for model knn\n",
        "from sklearn.metrics import classification_report\n",
        "\n",
        "predictions = knn.predict(X_test)\n",
        "print(classification_report(predictions, y_test))\n"
      ],
      "execution_count": null,
      "outputs": []
    },
    {
      "cell_type": "code",
      "metadata": {
        "id": "a1Hp-XRixNC-"
      },
      "source": [
        "# Repport for model Tree\n",
        "\n",
        "predictions = tree.predict(X_test)\n",
        "print(classification_report(predictions, y_test))"
      ],
      "execution_count": null,
      "outputs": []
    },
    {
      "cell_type": "code",
      "metadata": {
        "id": "i596DTI9xiBL"
      },
      "source": [
        "from sklearn.metrics import confusion_matrix\n",
        "\n",
        "confusion_matrix(predictions, y_test)"
      ],
      "execution_count": null,
      "outputs": []
    },
    {
      "cell_type": "code",
      "metadata": {
        "id": "WcjV1l7zyIWR"
      },
      "source": [
        "# tree.feature_importances_ ta3tina impact ta3 kol colonne dans l'ordre, w ken tree 3andha il faza hedhi\n",
        "\n",
        "sorted(list(zip(tree.feature_importances_, dataset.columns)), reverse=True)\n",
        "# bil faza hedhi 3rafna anehom aham les features li athrou fil modele\n",
        "# ki khthinehom houma barka fi 3oudh il 69 il kol, l9ina ta9riban nafs résultat (a9al b 0.003)\n",
        "# en contrepartie, rba7na 64 colonnes nist7a9ouch nlimoha fil future"
      ],
      "execution_count": null,
      "outputs": []
    },
    {
      "cell_type": "markdown",
      "metadata": {
        "id": "RtJvBWYkqj8Z"
      },
      "source": [
        "# **Exercice 1 **"
      ]
    },
    {
      "cell_type": "code",
      "metadata": {
        "id": "d2wSCh3Dqrp2"
      },
      "source": [
        "\n",
        "import pandas"
      ],
      "execution_count": null,
      "outputs": []
    },
    {
      "cell_type": "code",
      "metadata": {
        "id": "P3eWLF7mwpFc"
      },
      "source": [
        "#loading \n",
        "dataset = pandas.read_csv(\"https://raw.githubusercontent.com/elyesmanai/Data-Science-Datasets/main/EDA%20-%20pokedex_(Update_05.20).csv\")"
      ],
      "execution_count": null,
      "outputs": []
    },
    {
      "cell_type": "code",
      "metadata": {
        "colab": {
          "base_uri": "https://localhost:8080/"
        },
        "id": "1cwZmPeuw7OV",
        "outputId": "9b08e191-1fce-45ad-e437-54e4c3010b82"
      },
      "source": [
        "dataset.shape"
      ],
      "execution_count": null,
      "outputs": [
        {
          "output_type": "execute_result",
          "data": {
            "text/plain": [
              "(1028, 51)"
            ]
          },
          "metadata": {},
          "execution_count": 74
        }
      ]
    },
    {
      "cell_type": "code",
      "metadata": {
        "id": "FDv4xlp71guH"
      },
      "source": [
        "dataset.describe()"
      ],
      "execution_count": null,
      "outputs": []
    },
    {
      "cell_type": "code",
      "metadata": {
        "id": "afHQk-1e2Nth"
      },
      "source": [
        "dataset.info()"
      ],
      "execution_count": null,
      "outputs": []
    },
    {
      "cell_type": "code",
      "metadata": {
        "id": "c2KiecQntBLL"
      },
      "source": [
        "dataset.drop('name', axis=1, inplace=True)"
      ],
      "execution_count": null,
      "outputs": []
    },
    {
      "cell_type": "code",
      "metadata": {
        "id": "Y30rhM0stPAt"
      },
      "source": [
        "dataset.describe()"
      ],
      "execution_count": null,
      "outputs": []
    },
    {
      "cell_type": "code",
      "metadata": {
        "id": "UgPx0tN7tg1o"
      },
      "source": [
        "for column in dataset.columns:\n",
        "  if dataset[column].nunique() == 1: \n",
        "    dataset.drop(column, axis=1, inplace=True)"
      ],
      "execution_count": null,
      "outputs": []
    },
    {
      "cell_type": "code",
      "metadata": {
        "id": "6aYDS1xXtixY"
      },
      "source": [
        "dataset.describe()"
      ],
      "execution_count": null,
      "outputs": []
    },
    {
      "cell_type": "code",
      "metadata": {
        "id": "eV66YcA-9yWO"
      },
      "source": [
        "dataset.info()"
      ],
      "execution_count": null,
      "outputs": []
    },
    {
      "cell_type": "code",
      "metadata": {
        "id": "U36eXJoxtrGq"
      },
      "source": [
        "dataset.defense.hist()"
      ],
      "execution_count": null,
      "outputs": []
    },
    {
      "cell_type": "code",
      "metadata": {
        "id": "x4uqsQvSumUl"
      },
      "source": [
        "sorted(list(zip(dataset.corr()['defense'].values, dataset.columns)), reverse=True)"
      ],
      "execution_count": null,
      "outputs": []
    },
    {
      "cell_type": "code",
      "metadata": {
        "id": "lvRM-T7VwhLb"
      },
      "source": [
        "label = dataset.defense\n",
        "dataset.drop('defense',axis=1)\n",
        "features = dataset[['total_points','height_m','generation','type_number','abilities_number']]\n"
      ],
      "execution_count": null,
      "outputs": []
    },
    {
      "cell_type": "code",
      "metadata": {
        "id": "ZsYHurjzljwn"
      },
      "source": [
        "dataset.describe()"
      ],
      "execution_count": null,
      "outputs": []
    },
    {
      "cell_type": "code",
      "metadata": {
        "id": "LNGqiZLkwr7r"
      },
      "source": [
        "from sklearn.model_selection import train_test_split\n",
        "X_train, X_test, y_train, y_test = train_test_split(features, label, test_size=0.7, random_state=42)"
      ],
      "execution_count": null,
      "outputs": []
    },
    {
      "cell_type": "code",
      "metadata": {
        "id": "avqk871Vz5mx"
      },
      "source": [
        "# Modeling LogisticRegression\n",
        "# lezimni se3a n'importi les models\n",
        "from sklearn.linear_model import LogisticRegression\n",
        "from sklearn.neighbors import KNeighborsClassifier\n",
        "from sklearn.svm import SVC\n",
        "from sklearn.tree import DecisionTreeClassifier\n",
        "\n",
        "# lezimni na3mel instance lil model kima fi orienté objet\n",
        "log = LogisticRegression()\n",
        "knn = KNeighborsClassifier()\n",
        "svm = SVC()\n",
        "tree = DecisionTreeClassifier()"
      ],
      "execution_count": null,
      "outputs": []
    },
    {
      "cell_type": "code",
      "metadata": {
        "id": "WlRdbDTTz7GA"
      },
      "source": [
        "# Training\n",
        "for model in [log, svm, knn, tree]:\n",
        "  model.fit(X_train, y_train)\n",
        "  train_acc = model.score(X_train, y_train)\n",
        "  test_acc = model.score(X_test, y_test)\n",
        "  print(round(train_acc,3), round(test_acc,3))"
      ],
      "execution_count": null,
      "outputs": []
    },
    {
      "cell_type": "code",
      "metadata": {
        "id": "BCS9lXSb0Llq"
      },
      "source": [
        "# Repport for model knn\n",
        "from sklearn.metrics import classification_report\n",
        "\n",
        "predictions = knn.predict(X_test)\n",
        "print(classification_report(predictions, y_test))"
      ],
      "execution_count": null,
      "outputs": []
    },
    {
      "cell_type": "code",
      "metadata": {
        "id": "98GTxjEu0RRl"
      },
      "source": [
        "# Repport for model Tree\n",
        "\n",
        "predictions = tree.predict(X_test)\n",
        "print(classification_report(predictions, y_test))"
      ],
      "execution_count": null,
      "outputs": []
    },
    {
      "cell_type": "code",
      "metadata": {
        "colab": {
          "base_uri": "https://localhost:8080/"
        },
        "id": "rFJfYb8o0UQ-",
        "outputId": "9a5f42ee-1c06-4b33-b33c-078a62aa0382"
      },
      "source": [
        "from sklearn.metrics import confusion_matrix\n",
        "\n",
        "confusion_matrix(predictions, y_test)"
      ],
      "execution_count": null,
      "outputs": [
        {
          "output_type": "execute_result",
          "data": {
            "text/plain": [
              "array([[0, 0, 0, ..., 0, 0, 0],\n",
              "       [0, 0, 0, ..., 0, 0, 0],\n",
              "       [0, 0, 0, ..., 0, 0, 0],\n",
              "       ...,\n",
              "       [0, 0, 0, ..., 0, 0, 0],\n",
              "       [0, 0, 0, ..., 0, 0, 0],\n",
              "       [0, 0, 0, ..., 0, 0, 0]])"
            ]
          },
          "metadata": {},
          "execution_count": 13
        }
      ]
    },
    {
      "cell_type": "code",
      "metadata": {
        "colab": {
          "base_uri": "https://localhost:8080/"
        },
        "id": "KG--afxp0ixv",
        "outputId": "d645fa40-9f85-4062-96fc-35848fd4a306"
      },
      "source": [
        "label.shape"
      ],
      "execution_count": null,
      "outputs": [
        {
          "output_type": "execute_result",
          "data": {
            "text/plain": [
              "(1028,)"
            ]
          },
          "metadata": {},
          "execution_count": 14
        }
      ]
    },
    {
      "cell_type": "code",
      "metadata": {
        "colab": {
          "base_uri": "https://localhost:8080/"
        },
        "id": "6wULwulT2laz",
        "outputId": "036f0e6a-5533-46a6-a75c-e83951e4d162"
      },
      "source": [
        "label.describe()"
      ],
      "execution_count": null,
      "outputs": [
        {
          "output_type": "execute_result",
          "data": {
            "text/plain": [
              "count    1028.000000\n",
              "mean       74.475681\n",
              "std        31.303309\n",
              "min         5.000000\n",
              "25%        50.000000\n",
              "50%        70.000000\n",
              "75%        90.000000\n",
              "max       250.000000\n",
              "Name: defense, dtype: float64"
            ]
          },
          "metadata": {},
          "execution_count": 22
        }
      ]
    },
    {
      "cell_type": "code",
      "metadata": {
        "id": "EOO7vCckjmkK"
      },
      "source": [
        "dataset.describe()"
      ],
      "execution_count": null,
      "outputs": []
    },
    {
      "cell_type": "code",
      "metadata": {
        "colab": {
          "base_uri": "https://localhost:8080/"
        },
        "id": "g2Mi4coLjg0i",
        "outputId": "142f73e3-e4c6-4b44-9197-805951c625e7"
      },
      "source": [
        "import plotly.express as px\n",
        "fig = px.scatter_3d(dataset, x='sp_attack', y='sp_defense', z='speed',\n",
        "              color='weight_kg')\n",
        "fig.show()"
      ],
      "execution_count": null,
      "outputs": [
        {
          "output_type": "display_data",
          "data": {
            "text/html": [
              "<html>\n",
              "<head><meta charset=\"utf-8\" /></head>\n",
              "<body>\n",
              "    <div>\n",
              "            <script src=\"https://cdnjs.cloudflare.com/ajax/libs/mathjax/2.7.5/MathJax.js?config=TeX-AMS-MML_SVG\"></script><script type=\"text/javascript\">if (window.MathJax) {MathJax.Hub.Config({SVG: {font: \"STIX-Web\"}});}</script>\n",
              "                <script type=\"text/javascript\">window.PlotlyConfig = {MathJaxConfig: 'local'};</script>\n",
              "        <script src=\"https://cdn.plot.ly/plotly-latest.min.js\"></script>    \n",
              "            <div id=\"be9b2fab-fbff-428f-96d1-5aef9804f991\" class=\"plotly-graph-div\" style=\"height:525px; width:100%;\"></div>\n",
              "            <script type=\"text/javascript\">\n",
              "                \n",
              "                    window.PLOTLYENV=window.PLOTLYENV || {};\n",
              "                    \n",
              "                if (document.getElementById(\"be9b2fab-fbff-428f-96d1-5aef9804f991\")) {\n",
              "                    Plotly.newPlot(\n",
              "                        'be9b2fab-fbff-428f-96d1-5aef9804f991',\n",
              "                        [{\"hoverlabel\": {\"namelength\": 0}, \"hovertemplate\": \"sp_attack=%{x}<br>sp_defense=%{y}<br>speed=%{z}<br>weight_kg=%{marker.color}\", \"legendgroup\": \"\", \"marker\": {\"color\": [6.9, 13.0, 100.0, 155.5, 8.5, 19.0, 90.5, 110.5, 100.5, 9.0, 22.5, 85.5, 101.1, 2.9, 9.9, 32.0, 3.2, 10.0, 29.5, 40.5, 1.8, 30.0, 39.5, 50.5, 3.5, 3.8, 18.5, 25.5, 2.0, 38.0, 6.9, 65.0, 6.0, 6.0, 30.0, 21.0, 12.0, 40.0, 29.5, 55.0, 7.0, 20.0, 60.0, 9.0, 19.5, 62.0, 7.5, 40.0, 9.9, 9.9, 19.9, 19.9, 5.5, 12.0, 7.5, 55.0, 5.4, 8.6, 18.6, 5.4, 29.5, 30.0, 12.5, 0.8, 1.0, 33.3, 66.6, 4.2, 4.2, 7.5, 32.0, 33.0, 19.6, 76.6, 28.0, 32.0, 19.0, 155.0, 12.4, 20.0, 54.0, 19.5, 56.5, 48.0, 48.0, 19.5, 70.5, 130.0, 4.0, 6.4, 15.5, 45.5, 55.0, 20.0, 20.3, 105.0, 110.0, 300.0, 316.0, 30.0, 24.0, 95.0, 80.0, 36.0, 78.5, 120.0, 6.0, 60.0, 15.0, 42.0, 39.2, 85.2, 90.0, 120.0, 30.0, 42.0, 30.0, 52.0, 4.0, 132.5, 0.1, 0.1, 40.5, 40.5, 210.0, 32.4, 75.6, 6.5, 60.0, 10.4, 66.6, 2.5, 120.0, 415.6, 6.5, 45.0, 34.0, 49.8, 50.2, 65.5, 1.0, 9.5, 16.0, 115.0, 120.0, 34.6, 35.0, 80.0, 100.0, 8.0, 25.0, 15.0, 39.0, 34.5, 80.0, 54.5, 56.8, 56.0, 40.6, 30.0, 44.5, 55.0, 59.0, 88.4, 10.0, 235.0, 305.0, 220.0, 4.0, 6.5, 6.5, 29.0, 24.5, 25.0, 36.5, 7.5, 35.0, 11.5, 40.5, 59.0, 79.0, 460.0, 55.4, 52.6, 60.0, 3.3, 16.5, 210.0, 122.0, 127.0, 33.0, 4.0, 6.4, 15.8, 100.5, 7.9, 19.0, 79.5, 9.5, 25.0, 88.8, 6.0, 32.5, 21.2, 40.8, 10.8, 35.6, 8.5, 33.5, 75.0, 12.0, 22.5, 2.0, 3.0, 1.0, 1.5, 3.2, 2.0, 15.0, 7.8, 13.3, 61.5, 61.5, 5.8, 8.5, 28.5, 38.0, 33.9, 0.5, 1.0, 3.0, 11.5, 1.8, 8.5, 38.0, 8.5, 75.0, 26.5, 27.0, 2.1, 79.5, 1.0, 5.0, 28.5, 41.5, 7.2, 125.8, 14.0, 64.8, 400.0, 740.0, 7.8, 48.7, 3.9, 118.0, 125.0, 20.5, 54.0, 62.5, 28.0, 8.8, 125.8, 35.0, 55.0, 6.5, 55.8, 5.0, 0.5, 12.0, 28.5, 16.0, 220.0, 50.5, 10.8, 35.0, 49.5, 152.0, 33.5, 120.0, 32.5, 71.2, 58.0, 21.0, 48.0, 6.0, 23.5, 21.4, 75.5, 46.8, 178.0, 198.0, 187.0, 72.0, 152.0, 202.0, 255.0, 216.0, 199.0, 5.0, 5.0, 21.6, 52.2, 55.2, 2.5, 19.5, 52.0, 52.0, 7.6, 28.0, 81.9, 102.0, 13.6, 37.0, 17.5, 17.5, 32.5, 32.5, 3.6, 10.0, 28.4, 11.5, 31.6, 2.6, 32.5, 55.0, 4.0, 28.0, 59.6, 2.3, 19.8, 9.5, 28.0, 6.6, 20.2, 48.4, 48.4, 1.7, 3.6, 4.5, 39.2, 24.0, 46.5, 130.5, 5.5, 12.0, 1.2, 16.3, 40.5, 84.0, 86.4, 253.8, 2.0, 97.0, 11.0, 32.6, 11.0, 161.0, 11.5, 23.5, 60.0, 120.0, 360.0, 395.0, 11.2, 31.5, 31.5, 15.2, 40.2, 44.0, 4.2, 4.2, 17.7, 17.7, 2.0, 10.3, 80.0, 20.8, 88.8, 130.3, 130.0, 398.0, 24.0, 220.0, 320.5, 80.4, 30.6, 71.5, 5.0, 15.0, 15.3, 82.0, 51.3, 77.4, 1.2, 20.6, 20.6, 40.3, 52.5, 168.0, 154.0, 1.9, 23.6, 11.5, 32.8, 21.5, 108.0, 23.8, 60.4, 12.5, 68.2, 7.4, 162.0, 0.8, 0.8, 0.8, 0.8, 22.0, 2.3, 12.5, 13.0, 15.0, 30.6, 100.0, 1.0, 47.0, 49.0, 14.0, 16.8, 256.5, 350.2, 39.5, 87.6, 150.6, 52.5, 27.0, 22.6, 23.4, 8.7, 42.1, 110.5, 102.6, 112.6, 95.2, 202.5, 550.0, 942.9, 230.0, 175.0, 205.0, 40.0, 52.0, 60.0, 70.0, 352.0, 430.0, 950.0, 999.7, 206.5, 392.0, 1.1, 60.8, 60.8, 60.8, 60.8, 10.2, 97.0, 310.0, 6.2, 22.0, 55.0, 5.2, 23.0, 84.5, 2.0, 15.5, 24.9, 20.0, 31.5, 2.2, 25.5, 9.5, 30.5, 42.0, 1.2, 14.5, 31.5, 102.5, 57.0, 149.5, 3.4, 6.5, 6.5, 6.5, 23.3, 5.5, 38.5, 3.9, 29.5, 33.5, 3.3, 9.3, 6.3, 29.9, 20.3, 1.2, 15.0, 5.5, 33.3, 28.3, 4.4, 27.3, 3.9, 43.8, 0.6, 19.2, 38.0, 60.5, 187.0, 15.0, 13.0, 24.4, 1.9, 108.0, 20.5, 56.0, 95.0, 95.0, 105.0, 20.2, 54.0, 57.5, 49.5, 300.0, 12.0, 61.5, 23.0, 44.4, 27.0, 7.0, 24.0, 65.0, 50.5, 135.5, 185.0, 34.0, 180.0, 140.0, 282.8, 128.6, 138.6, 68.0, 38.0, 51.5, 25.5, 25.9, 42.5, 291.0, 34.0, 52.0, 56.4, 340.0, 106.6, 26.6, 0.3, 0.3, 0.3, 0.3, 0.3, 0.3, 0.3, 0.3, 0.3, 683.0, 336.0, 430.0, 420.0, 750.0, 650.0, 85.6, 3.1, 1.4, 50.5, 2.1, 5.2, 320.0, 4.0, 8.1, 16.0, 63.0, 9.9, 55.5, 150.0, 5.9, 24.5, 94.6, 11.6, 27.0, 4.1, 14.7, 61.0, 10.1, 37.5, 10.5, 30.5, 11.0, 28.0, 13.5, 29.0, 23.3, 60.5, 2.1, 15.0, 29.0, 29.8, 79.5, 18.0, 102.0, 260.0, 2.1, 10.5, 8.5, 40.4, 31.0, 32.0, 12.5, 40.0, 87.0, 4.5, 17.0, 62.0, 55.5, 51.0, 2.5, 7.3, 20.5, 5.3, 58.5, 200.5, 0.6, 6.6, 6.6, 16.3, 18.0, 18.0, 15.2, 33.4, 96.3, 37.5, 40.0, 92.9, 92.9, 120.0, 120.0, 28.0, 14.5, 200.0, 11.8, 30.0, 14.0, 1.5, 1.5, 76.5, 16.5, 81.0, 9.5, 32.0, 31.0, 107.3, 12.5, 81.1, 5.8, 7.5, 5.8, 18.0, 44.0, 1.0, 8.0, 20.1, 5.5, 24.2, 5.7, 41.0, 57.5, 19.5, 92.5, 5.0, 5.9, 33.0, 1.0, 10.5, 33.0, 135.0, 31.6, 0.6, 14.3, 18.8, 110.0, 21.0, 51.0, 81.0, 0.3, 22.0, 80.5, 9.0, 34.5, 3.1, 13.0, 34.3, 18.0, 36.0, 105.5, 8.5, 260.0, 148.0, 7.7, 25.3, 11.0, 20.5, 20.0, 35.5, 139.0, 92.0, 330.0, 10.2, 70.0, 94.6, 10.5, 41.0, 9.0, 39.5, 58.0, 33.0, 17.3, 50.0, 160.0, 28.8, 46.0, 250.0, 260.0, 200.0, 63.0, 63.0, 61.0, 61.0, 330.0, 345.0, 68.0, 68.0, 325.0, 325.0, 325.0, 48.5, 48.5, 6.5, 6.5, 82.5, 9.0, 29.0, 90.0, 9.4, 14.5, 39.0, 7.0, 10.9, 40.0, 40.0, 5.0, 42.4, 1.7, 16.0, 24.5, 2.5, 8.4, 17.0, 13.5, 81.5, 0.1, 0.9, 10.0, 31.0, 91.0, 8.0, 136.0, 28.0, 3.5, 8.5, 8.5, 2.0, 4.5, 53.0, 53.0, 0.5, 15.5, 3.5, 5.0, 3.5, 47.0, 31.0, 96.0, 7.3, 81.5, 8.3, 35.3, 6.0, 21.0, 26.0, 270.0, 25.2, 225.0, 23.5, 21.5, 2.2, 5.7, 2.8, 17.5, 150.5, 3.0, 7.0, 71.0, 5.0, 3.5, 7.5, 15.0, 12.5, 9.5, 14.0, 39.0, 99.5, 505.0, 8.0, 85.0, 215.0, 203.0, 305.0, 33.5, 610.0, 8.8, 27.8, 9.0, 490.0, 195.0, 1.5, 16.0, 36.6, 4.3, 25.0, 83.0, 7.5, 17.5, 44.0, 1.2, 14.8, 26.0, 6.0, 14.2, 4.4, 10.5, 45.0, 7.0, 180.0, 3.4, 3.4, 3.4, 3.4, 0.2, 0.5, 9.2, 9.2, 25.0, 25.0, 25.0, 0.3, 78.6, 8.0, 14.5, 110.0, 920.0, 4.0, 82.0, 1.5, 18.5, 1.5, 11.5, 4.8, 22.2, 6.8, 135.0, 3.2, 8.2, 21.4, 0.3, 76.0, 82.8, 12.0, 108.0, 70.0, 250.0, 1.2, 120.5, 100.5, 40.0, 0.3, 19.9, 212.0, 3.3, 0.7, 19.0, 185.0, 210.0, 29.7, 47.0, 78.2, 20.5, 18.6, 45.5, 21.2, 0.1, 999.9, 230.0, 120.0, 55.5, 333.6, 25.0, 100.0, 999.9, 0.1, 888.0, 230.0, 460.0, 350.0, 230.0, 80.5, 22.2, 1.8, 150.0, 820.0, 13.0, 44.5, 8.0, 800.0, 5.0, 14.0, 90.0, 4.5, 9.0, 33.0, 4.0, 11.5, 45.2, 2.5, 6.0, 1.8, 16.0, 75.0, 8.0, 19.5, 40.8, 8.9, 19.9, 2.2, 2.5, 6.0, 43.0, 8.5, 115.5, 13.5, 34.0, 12.0, 78.0, 310.5, 0.5, 1.0, 13.0, 7.6, 65.5, 18.0, 1.0, 30.0, 11.0, 40.0, 40.0, 1.0, 120.0, 4.0, 39.0, 0.2, 0.4, 3.4, 4.8, 5.0, 5.5, 12.5, 61.0, 46.0, 28.0, 0.4, 117.0, 58.2, 66.6, 0.3, 0.5, 62.0, 1.0, 3.8, 42.0, 520.0, 89.0, 89.0, 28.0, 28.0, 3.0, 3.0, 100.0, 650.0, 190.0, 150.0, 215.0, 175.0, 40.0, 2.0, 11.0, 50.0, 355.0, 110.0, 785.0, 210.0, 950.0, null], \"coloraxis\": \"coloraxis\", \"symbol\": \"circle\"}, \"mode\": \"markers\", \"name\": \"\", \"scene\": \"scene\", \"showlegend\": false, \"type\": \"scatter3d\", \"x\": [65.0, 80.0, 100.0, 122.0, 60.0, 80.0, 109.0, 130.0, 159.0, 50.0, 65.0, 85.0, 135.0, 20.0, 25.0, 90.0, 20.0, 25.0, 45.0, 15.0, 35.0, 50.0, 70.0, 135.0, 25.0, 25.0, 50.0, 40.0, 31.0, 61.0, 40.0, 65.0, 50.0, 75.0, 90.0, 95.0, 20.0, 10.0, 45.0, 25.0, 40.0, 55.0, 75.0, 40.0, 55.0, 85.0, 60.0, 95.0, 50.0, 50.0, 81.0, 81.0, 45.0, 85.0, 30.0, 65.0, 75.0, 85.0, 110.0, 45.0, 60.0, 40.0, 90.0, 35.0, 35.0, 50.0, 50.0, 40.0, 50.0, 40.0, 65.0, 75.0, 65.0, 95.0, 35.0, 60.0, 70.0, 100.0, 40.0, 50.0, 70.0, 105.0, 120.0, 135.0, 175.0, 35.0, 50.0, 65.0, 70.0, 85.0, 100.0, 50.0, 80.0, 30.0, 30.0, 45.0, 45.0, 55.0, 55.0, 65.0, 65.0, 80.0, 80.0, 40.0, 100.0, 130.0, 95.0, 120.0, 58.0, 58.0, 35.0, 60.0, 45.0, 70.0, 40.0, 40.0, 65.0, 65.0, 45.0, 85.0, 100.0, 115.0, 130.0, 170.0, 30.0, 43.0, 73.0, 25.0, 50.0, 55.0, 80.0, 60.0, 125.0, 125.0, 40.0, 50.0, 50.0, 35.0, 35.0, 60.0, 60.0, 85.0, 85.0, 30.0, 45.0, 35.0, 100.0, 40.0, 60.0, 70.0, 95.0, 35.0, 65.0, 70.0, 100.0, 100.0, 90.0, 55.0, 115.0, 95.0, 100.0, 55.0, 65.0, 40.0, 15.0, 60.0, 70.0, 85.0, 48.0, 45.0, 65.0, 110.0, 110.0, 95.0, 85.0, 90.0, 115.0, 55.0, 65.0, 60.0, 70.0, 65.0, 95.0, 125.0, 125.0, 50.0, 70.0, 100.0, 154.0, 154.0, 194.0, 100.0, 49.0, 63.0, 83.0, 60.0, 80.0, 109.0, 44.0, 59.0, 79.0, 35.0, 45.0, 36.0, 86.0, 40.0, 55.0, 40.0, 60.0, 70.0, 56.0, 76.0, 35.0, 45.0, 40.0, 40.0, 80.0, 70.0, 95.0, 65.0, 80.0, 115.0, 165.0, 90.0, 20.0, 60.0, 30.0, 90.0, 35.0, 45.0, 55.0, 40.0, 30.0, 105.0, 75.0, 25.0, 65.0, 130.0, 60.0, 85.0, 100.0, 85.0, 72.0, 33.0, 90.0, 35.0, 60.0, 65.0, 35.0, 55.0, 55.0, 40.0, 60.0, 55.0, 55.0, 65.0, 10.0, 40.0, 40.0, 35.0, 50.0, 75.0, 70.0, 90.0, 30.0, 60.0, 65.0, 65.0, 65.0, 105.0, 65.0, 80.0, 40.0, 80.0, 110.0, 140.0, 95.0, 40.0, 60.0, 105.0, 85.0, 20.0, 35.0, 35.0, 85.0, 65.0, 70.0, 40.0, 75.0, 115.0, 90.0, 90.0, 45.0, 65.0, 95.0, 95.0, 90.0, 110.0, 100.0, 65.0, 85.0, 105.0, 145.0, 70.0, 85.0, 110.0, 130.0, 50.0, 60.0, 85.0, 95.0, 30.0, 60.0, 30.0, 30.0, 50.0, 50.0, 20.0, 25.0, 100.0, 25.0, 50.0, 40.0, 60.0, 90.0, 30.0, 60.0, 90.0, 30.0, 75.0, 55.0, 95.0, 45.0, 65.0, 125.0, 165.0, 50.0, 100.0, 40.0, 60.0, 35.0, 55.0, 95.0, 30.0, 50.0, 30.0, 51.0, 71.0, 91.0, 20.0, 40.0, 20.0, 45.0, 35.0, 55.0, 65.0, 85.0, 55.0, 55.0, 40.0, 50.0, 60.0, 60.0, 40.0, 60.0, 80.0, 65.0, 105.0, 135.0, 85.0, 75.0, 47.0, 73.0, 100.0, 43.0, 73.0, 65.0, 95.0, 110.0, 70.0, 90.0, 65.0, 105.0, 145.0, 85.0, 70.0, 90.0, 60.0, 45.0, 50.0, 80.0, 85.0, 115.0, 40.0, 70.0, 110.0, 60.0, 100.0, 95.0, 55.0, 46.0, 76.0, 50.0, 90.0, 40.0, 70.0, 61.0, 81.0, 40.0, 70.0, 10.0, 100.0, 70.0, 70.0, 70.0, 70.0, 60.0, 63.0, 83.0, 93.0, 30.0, 60.0, 72.0, 95.0, 75.0, 115.0, 23.0, 50.0, 80.0, 120.0, 55.0, 75.0, 95.0, 74.0, 94.0, 114.0, 45.0, 40.0, 40.0, 60.0, 110.0, 120.0, 35.0, 55.0, 95.0, 105.0, 50.0, 100.0, 75.0, 110.0, 140.0, 130.0, 160.0, 150.0, 180.0, 100.0, 150.0, 150.0, 180.0, 100.0, 150.0, 180.0, 70.0, 95.0, 45.0, 55.0, 75.0, 58.0, 78.0, 104.0, 61.0, 81.0, 111.0, 30.0, 40.0, 50.0, 35.0, 55.0, 25.0, 55.0, 40.0, 60.0, 95.0, 50.0, 125.0, 30.0, 65.0, 42.0, 47.0, 29.0, 79.0, 59.0, 69.0, 94.0, 30.0, 80.0, 45.0, 60.0, 85.0, 62.0, 87.0, 57.0, 92.0, 60.0, 60.0, 90.0, 44.0, 54.0, 54.0, 105.0, 105.0, 42.0, 64.0, 65.0, 41.0, 71.0, 24.0, 79.0, 10.0, 70.0, 15.0, 92.0, 92.0, 40.0, 50.0, 80.0, 120.0, 40.0, 35.0, 115.0, 140.0, 38.0, 68.0, 30.0, 60.0, 61.0, 86.0, 90.0, 49.0, 69.0, 60.0, 62.0, 92.0, 132.0, 45.0, 130.0, 80.0, 55.0, 110.0, 95.0, 125.0, 120.0, 116.0, 60.0, 130.0, 45.0, 70.0, 135.0, 65.0, 65.0, 75.0, 65.0, 80.0, 95.0, 105.0, 105.0, 105.0, 105.0, 105.0, 75.0, 105.0, 125.0, 150.0, 150.0, 130.0, 80.0, 100.0, 120.0, 75.0, 80.0, 100.0, 135.0, 100.0, 120.0, 120.0, 100.0, 45.0, 60.0, 75.0, 45.0, 70.0, 100.0, 63.0, 83.0, 108.0, 35.0, 60.0, 25.0, 35.0, 45.0, 50.0, 88.0, 53.0, 98.0, 53.0, 98.0, 53.0, 98.0, 67.0, 107.0, 36.0, 50.0, 65.0, 50.0, 80.0, 25.0, 50.0, 60.0, 55.0, 77.0, 30.0, 50.0, 60.0, 80.0, 25.0, 40.0, 55.0, 50.0, 65.0, 85.0, 30.0, 30.0, 40.0, 50.0, 70.0, 30.0, 40.0, 55.0, 37.0, 77.0, 70.0, 110.0, 80.0, 80.0, 35.0, 45.0, 65.0, 15.0, 15.0, 30.0, 140.0, 30.0, 30.0, 106.0, 35.0, 65.0, 35.0, 45.0, 103.0, 55.0, 30.0, 95.0, 53.0, 83.0, 74.0, 112.0, 40.0, 60.0, 80.0, 120.0, 40.0, 65.0, 55.0, 75.0, 95.0, 105.0, 125.0, 125.0, 44.0, 87.0, 65.0, 80.0, 110.0, 40.0, 60.0, 75.0, 40.0, 60.0, 55.0, 85.0, 65.0, 85.0, 40.0, 57.0, 97.0, 24.0, 54.0, 45.0, 70.0, 70.0, 45.0, 75.0, 105.0, 85.0, 125.0, 65.0, 95.0, 145.0, 30.0, 40.0, 60.0, 60.0, 70.0, 95.0, 40.0, 100.0, 81.0, 66.0, 55.0, 95.0, 60.0, 35.0, 55.0, 40.0, 60.0, 40.0, 37.0, 57.0, 45.0, 55.0, 105.0, 48.0, 45.0, 65.0, 125.0, 50.0, 135.0, 90.0, 72.0, 90.0, 125.0, 110.0, 125.0, 145.0, 150.0, 120.0, 115.0, 105.0, 130.0, 120.0, 170.0, 129.0, 129.0, 128.0, 77.0, 120.0, 48.0, 56.0, 74.0, 62.0, 90.0, 114.0, 62.0, 83.0, 103.0, 153.0, 32.0, 50.0, 40.0, 56.0, 74.0, 27.0, 27.0, 90.0, 73.0, 109.0, 61.0, 75.0, 112.0, 62.0, 97.0, 46.0, 69.0, 65.0, 63.0, 83.0, 83.0, 35.0, 45.0, 150.0, 50.0, 63.0, 99.0, 59.0, 85.0, 37.0, 68.0, 39.0, 54.0, 60.0, 97.0, 58.0, 120.0, 61.0, 109.0, 45.0, 69.0, 67.0, 99.0, 110.0, 74.0, 81.0, 50.0, 55.0, 83.0, 110.0, 80.0, 50.0, 65.0, 44.0, 44.0, 44.0, 44.0, 58.0, 58.0, 58.0, 58.0, 32.0, 44.0, 45.0, 97.0, 131.0, 131.0, 81.0, 61.0, 91.0, 100.0, 160.0, 150.0, 170.0, 130.0, 50.0, 70.0, 100.0, 60.0, 80.0, 80.0, 66.0, 91.0, 126.0, 30.0, 40.0, 75.0, 30.0, 55.0, 55.0, 55.0, 145.0, 42.0, 62.0, 98.0, 98.0, 98.0, 98.0, 55.0, 95.0, 30.0, 30.0, 55.0, 55.0, 55.0, 25.0, 140.0, 43.0, 53.0, 45.0, 55.0, 40.0, 50.0, 50.0, 80.0, 65.0, 90.0, 71.0, 111.0, 45.0, 55.0, 30.0, 40.0, 50.0, 82.0, 90.0, 40.0, 20.0, 60.0, 70.0, 100.0, 30.0, 95.0, 95.0, 60.0, 100.0, 75.0, 91.0, 40.0, 50.0, 70.0, 135.0, 86.0, 45.0, 65.0, 100.0, 95.0, 130.0, 85.0, 95.0, 29.0, 29.0, 113.0, 137.0, 127.0, 53.0, 137.0, 173.0, 107.0, 59.0, 97.0, 127.0, 113.0, 157.0, 167.0, 130.0, 90.0, 73.0, 127.0, 53.0, 151.0, 102.0, 55.0, 80.0, 40.0, 55.0, 60.0, 40.0, 55.0, 65.0, 70.0, 95.0, 125.0, 35.0, 55.0, 33.0, 43.0, 53.0, 25.0, 50.0, 80.0, 47.0, 87.0, 40.0, 80.0, 40.0, 60.0, 38.0, 48.0, 40.0, 90.0, 40.0, 60.0, 80.0, 40.0, 95.0, 100.0, 35.0, 65.0, 85.0, 40.0, 60.0, 54.0, 114.0, 114.0, 50.0, 90.0, 50.0, 70.0, 74.0, 134.0, 56.0, 86.0, 136.0, 55.0, 75.0, 95.0, 60.0, 50.0, 145.0, 68.0, 110.0, 50.0, 50.0, 110.0, 70.0, 91.0, 45.0, 125.0, 20.0, 65.0, 65.0, 105.0, 95.0, 70.0, 70.0, 40.0, 80.0, 80.0, 90.0, 70.0, 80.0, 120.0, 40.0, 60.0, 100.0, 80.0, 80.0, 80.0, 80.0, 145.0, 125.0], \"y\": [65.0, 80.0, 100.0, 120.0, 50.0, 65.0, 85.0, 85.0, 115.0, 64.0, 80.0, 105.0, 115.0, 20.0, 25.0, 80.0, 20.0, 25.0, 80.0, 80.0, 35.0, 50.0, 70.0, 80.0, 35.0, 35.0, 70.0, 80.0, 31.0, 61.0, 54.0, 79.0, 50.0, 60.0, 80.0, 85.0, 30.0, 35.0, 55.0, 65.0, 40.0, 55.0, 85.0, 40.0, 55.0, 75.0, 65.0, 90.0, 65.0, 65.0, 100.0, 100.0, 25.0, 50.0, 40.0, 75.0, 65.0, 75.0, 90.0, 55.0, 80.0, 55.0, 75.0, 45.0, 45.0, 70.0, 70.0, 40.0, 40.0, 40.0, 65.0, 65.0, 50.0, 80.0, 45.0, 70.0, 50.0, 80.0, 40.0, 50.0, 90.0, 55.0, 70.0, 95.0, 105.0, 35.0, 60.0, 85.0, 30.0, 45.0, 70.0, 100.0, 120.0, 30.0, 30.0, 45.0, 45.0, 65.0, 65.0, 65.0, 65.0, 80.0, 80.0, 40.0, 80.0, 80.0, 55.0, 70.0, 62.0, 62.0, 35.0, 60.0, 70.0, 95.0, 50.0, 50.0, 100.0, 100.0, 25.0, 45.0, 35.0, 55.0, 75.0, 95.0, 45.0, 90.0, 115.0, 25.0, 50.0, 55.0, 80.0, 45.0, 75.0, 75.0, 50.0, 80.0, 80.0, 110.0, 110.0, 75.0, 45.0, 70.0, 70.0, 30.0, 45.0, 105.0, 40.0, 80.0, 100.0, 25.0, 45.0, 50.0, 80.0, 55.0, 85.0, 120.0, 90.0, 80.0, 95.0, 85.0, 85.0, 70.0, 90.0, 70.0, 20.0, 100.0, 130.0, 95.0, 48.0, 65.0, 85.0, 95.0, 95.0, 110.0, 75.0, 55.0, 70.0, 45.0, 70.0, 75.0, 95.0, 110.0, 125.0, 90.0, 85.0, 50.0, 70.0, 100.0, 90.0, 100.0, 120.0, 100.0, 65.0, 80.0, 100.0, 50.0, 65.0, 85.0, 48.0, 63.0, 83.0, 45.0, 55.0, 56.0, 96.0, 80.0, 110.0, 40.0, 70.0, 80.0, 56.0, 76.0, 35.0, 55.0, 20.0, 65.0, 105.0, 45.0, 70.0, 45.0, 60.0, 90.0, 110.0, 100.0, 50.0, 80.0, 65.0, 100.0, 55.0, 65.0, 95.0, 55.0, 30.0, 85.0, 45.0, 25.0, 65.0, 95.0, 130.0, 42.0, 110.0, 85.0, 48.0, 58.0, 65.0, 35.0, 60.0, 65.0, 65.0, 65.0, 95.0, 40.0, 60.0, 55.0, 80.0, 100.0, 230.0, 95.0, 105.0, 75.0, 50.0, 75.0, 40.0, 80.0, 30.0, 60.0, 95.0, 100.0, 35.0, 75.0, 45.0, 140.0, 70.0, 50.0, 80.0, 90.0, 95.0, 40.0, 60.0, 95.0, 65.0, 45.0, 35.0, 110.0, 65.0, 55.0, 55.0, 70.0, 135.0, 100.0, 75.0, 115.0, 50.0, 70.0, 100.0, 120.0, 154.0, 154.0, 100.0, 55.0, 65.0, 85.0, 85.0, 50.0, 60.0, 70.0, 80.0, 50.0, 70.0, 90.0, 110.0, 30.0, 60.0, 41.0, 41.0, 61.0, 61.0, 30.0, 25.0, 50.0, 25.0, 90.0, 50.0, 70.0, 100.0, 30.0, 40.0, 60.0, 30.0, 50.0, 30.0, 70.0, 35.0, 55.0, 115.0, 135.0, 52.0, 82.0, 60.0, 60.0, 35.0, 55.0, 65.0, 30.0, 50.0, 30.0, 23.0, 43.0, 73.0, 30.0, 60.0, 40.0, 90.0, 35.0, 55.0, 65.0, 115.0, 55.0, 95.0, 40.0, 50.0, 60.0, 80.0, 55.0, 75.0, 85.0, 40.0, 60.0, 80.0, 75.0, 85.0, 85.0, 85.0, 80.0, 53.0, 83.0, 20.0, 40.0, 65.0, 35.0, 45.0, 45.0, 75.0, 105.0, 70.0, 80.0, 110.0, 60.0, 45.0, 50.0, 80.0, 40.0, 60.0, 75.0, 105.0, 105.0, 60.0, 60.0, 85.0, 65.0, 41.0, 71.0, 35.0, 55.0, 70.0, 120.0, 87.0, 107.0, 50.0, 80.0, 55.0, 125.0, 70.0, 70.0, 70.0, 70.0, 120.0, 33.0, 63.0, 83.0, 90.0, 130.0, 87.0, 90.0, 60.0, 60.0, 48.0, 50.0, 80.0, 80.0, 50.0, 70.0, 90.0, 55.0, 75.0, 75.0, 65.0, 65.0, 30.0, 50.0, 80.0, 90.0, 60.0, 80.0, 90.0, 110.0, 100.0, 200.0, 150.0, 130.0, 150.0, 110.0, 120.0, 140.0, 160.0, 90.0, 90.0, 90.0, 100.0, 100.0, 50.0, 20.0, 160.0, 90.0, 55.0, 65.0, 85.0, 44.0, 52.0, 71.0, 56.0, 76.0, 101.0, 30.0, 40.0, 60.0, 40.0, 60.0, 41.0, 51.0, 34.0, 49.0, 79.0, 70.0, 105.0, 30.0, 50.0, 88.0, 138.0, 45.0, 105.0, 85.0, 95.0, 50.0, 42.0, 102.0, 90.0, 30.0, 50.0, 53.0, 78.0, 62.0, 82.0, 66.0, 44.0, 54.0, 56.0, 96.0, 96.0, 105.0, 52.0, 37.0, 59.0, 50.0, 41.0, 61.0, 86.0, 116.0, 45.0, 90.0, 65.0, 42.0, 108.0, 45.0, 55.0, 85.0, 95.0, 85.0, 40.0, 70.0, 70.0, 42.0, 72.0, 55.0, 75.0, 40.0, 65.0, 72.0, 61.0, 86.0, 120.0, 60.0, 85.0, 105.0, 85.0, 90.0, 95.0, 55.0, 50.0, 85.0, 95.0, 115.0, 56.0, 65.0, 95.0, 75.0, 60.0, 75.0, 115.0, 115.0, 150.0, 135.0, 70.0, 77.0, 107.0, 107.0, 107.0, 107.0, 107.0, 130.0, 105.0, 70.0, 100.0, 120.0, 106.0, 110.0, 120.0, 100.0, 130.0, 80.0, 100.0, 90.0, 100.0, 75.0, 120.0, 100.0, 55.0, 75.0, 95.0, 45.0, 55.0, 65.0, 45.0, 60.0, 70.0, 39.0, 69.0, 45.0, 65.0, 90.0, 37.0, 50.0, 48.0, 63.0, 48.0, 63.0, 48.0, 63.0, 55.0, 95.0, 30.0, 42.0, 55.0, 32.0, 63.0, 25.0, 40.0, 80.0, 43.0, 55.0, 45.0, 65.0, 86.0, 126.0, 35.0, 50.0, 65.0, 40.0, 55.0, 75.0, 85.0, 75.0, 60.0, 80.0, 80.0, 39.0, 79.0, 69.0, 50.0, 75.0, 50.0, 75.0, 55.0, 55.0, 35.0, 45.0, 70.0, 45.0, 45.0, 55.0, 105.0, 55.0, 55.0, 67.0, 35.0, 75.0, 70.0, 115.0, 80.0, 65.0, 65.0, 105.0, 45.0, 65.0, 45.0, 65.0, 62.0, 82.0, 40.0, 60.0, 40.0, 60.0, 65.0, 85.0, 110.0, 50.0, 60.0, 85.0, 50.0, 63.0, 60.0, 75.0, 95.0, 50.0, 70.0, 60.0, 45.0, 105.0, 55.0, 80.0, 85.0, 105.0, 45.0, 50.0, 60.0, 86.0, 116.0, 60.0, 85.0, 85.0, 40.0, 70.0, 80.0, 55.0, 95.0, 55.0, 60.0, 90.0, 40.0, 50.0, 70.0, 40.0, 80.0, 135.0, 65.0, 60.0, 99.0, 84.0, 50.0, 60.0, 90.0, 50.0, 80.0, 40.0, 70.0, 95.0, 50.0, 75.0, 65.0, 95.0, 66.0, 48.0, 50.0, 70.0, 90.0, 55.0, 105.0, 72.0, 90.0, 129.0, 80.0, 90.0, 80.0, 80.0, 120.0, 100.0, 80.0, 80.0, 90.0, 90.0, 100.0, 90.0, 90.0, 128.0, 77.0, 95.0, 45.0, 58.0, 75.0, 60.0, 70.0, 100.0, 44.0, 56.0, 71.0, 71.0, 36.0, 77.0, 38.0, 52.0, 69.0, 25.0, 30.0, 50.0, 54.0, 66.0, 79.0, 98.0, 154.0, 57.0, 81.0, 48.0, 71.0, 90.0, 60.0, 81.0, 81.0, 37.0, 49.0, 50.0, 150.0, 65.0, 89.0, 57.0, 75.0, 46.0, 75.0, 56.0, 86.0, 60.0, 123.0, 63.0, 89.0, 43.0, 94.0, 45.0, 59.0, 63.0, 92.0, 130.0, 63.0, 67.0, 150.0, 75.0, 113.0, 150.0, 87.0, 60.0, 82.0, 55.0, 55.0, 55.0, 55.0, 75.0, 75.0, 75.0, 75.0, 35.0, 46.0, 40.0, 80.0, 98.0, 98.0, 95.0, 85.0, 95.0, 150.0, 110.0, 130.0, 130.0, 90.0, 50.0, 70.0, 100.0, 40.0, 50.0, 90.0, 56.0, 81.0, 116.0, 30.0, 50.0, 75.0, 30.0, 60.0, 45.0, 75.0, 75.0, 47.0, 67.0, 70.0, 70.0, 70.0, 70.0, 40.0, 70.0, 40.0, 40.0, 65.0, 75.0, 65.0, 25.0, 135.0, 52.0, 142.0, 55.0, 85.0, 72.0, 132.0, 35.0, 90.0, 75.0, 100.0, 40.0, 60.0, 50.0, 60.0, 38.0, 48.0, 98.0, 110.0, 110.0, 60.0, 30.0, 90.0, 45.0, 75.0, 130.0, 95.0, 95.0, 100.0, 60.0, 95.0, 85.0, 73.0, 105.0, 70.0, 91.0, 90.0, 45.0, 70.0, 105.0, 75.0, 115.0, 95.0, 130.0, 31.0, 131.0, 89.0, 107.0, 131.0, 53.0, 37.0, 71.0, 101.0, 31.0, 53.0, 89.0, 109.0, 127.0, 97.0, 115.0, 90.0, 67.0, 73.0, 101.0, 79.0, 80.0, 35.0, 65.0, 40.0, 60.0, 70.0, 40.0, 60.0, 75.0, 40.0, 55.0, 65.0, 35.0, 75.0, 35.0, 55.0, 85.0, 45.0, 90.0, 120.0, 52.0, 92.0, 60.0, 120.0, 45.0, 90.0, 38.0, 68.0, 50.0, 60.0, 50.0, 70.0, 90.0, 40.0, 60.0, 80.0, 50.0, 70.0, 95.0, 30.0, 50.0, 35.0, 70.0, 70.0, 50.0, 90.0, 50.0, 80.0, 54.0, 114.0, 53.0, 73.0, 103.0, 40.0, 55.0, 75.0, 81.0, 60.0, 130.0, 82.0, 100.0, 105.0, 61.0, 121.0, 60.0, 85.0, 30.0, 90.0, 20.0, 90.0, 50.0, 95.0, 105.0, 58.0, 58.0, 49.0, 69.0, 70.0, 80.0, 80.0, 90.0, 50.0, 30.0, 50.0, 75.0, 115.0, 115.0, 145.0, 115.0, 95.0, 250.0], \"z\": [45.0, 60.0, 80.0, 80.0, 65.0, 80.0, 100.0, 100.0, 100.0, 43.0, 58.0, 78.0, 78.0, 45.0, 30.0, 70.0, 50.0, 35.0, 75.0, 145.0, 56.0, 71.0, 101.0, 121.0, 72.0, 72.0, 97.0, 77.0, 70.0, 100.0, 55.0, 80.0, 90.0, 120.0, 110.0, 110.0, 40.0, 40.0, 65.0, 65.0, 41.0, 56.0, 76.0, 50.0, 65.0, 85.0, 35.0, 60.0, 65.0, 65.0, 100.0, 109.0, 20.0, 45.0, 55.0, 90.0, 30.0, 40.0, 50.0, 25.0, 30.0, 45.0, 90.0, 95.0, 90.0, 120.0, 110.0, 90.0, 90.0, 40.0, 115.0, 115.0, 55.0, 85.0, 70.0, 95.0, 60.0, 95.0, 90.0, 90.0, 70.0, 90.0, 105.0, 120.0, 150.0, 35.0, 45.0, 55.0, 40.0, 55.0, 70.0, 70.0, 100.0, 20.0, 20.0, 35.0, 35.0, 45.0, 45.0, 90.0, 90.0, 105.0, 105.0, 15.0, 30.0, 30.0, 45.0, 70.0, 60.0, 55.0, 75.0, 110.0, 45.0, 70.0, 25.0, 25.0, 50.0, 50.0, 40.0, 70.0, 80.0, 95.0, 110.0, 130.0, 70.0, 42.0, 67.0, 50.0, 75.0, 100.0, 150.0, 40.0, 55.0, 45.0, 35.0, 45.0, 45.0, 87.0, 76.0, 30.0, 35.0, 60.0, 60.0, 25.0, 40.0, 50.0, 60.0, 90.0, 100.0, 60.0, 85.0, 63.0, 68.0, 85.0, 115.0, 90.0, 100.0, 105.0, 95.0, 105.0, 93.0, 85.0, 105.0, 110.0, 80.0, 81.0, 81.0, 60.0, 48.0, 55.0, 75.0, 65.0, 130.0, 65.0, 40.0, 35.0, 55.0, 55.0, 80.0, 130.0, 150.0, 30.0, 85.0, 100.0, 90.0, 50.0, 70.0, 80.0, 130.0, 130.0, 140.0, 100.0, 45.0, 60.0, 80.0, 65.0, 80.0, 100.0, 43.0, 58.0, 78.0, 20.0, 90.0, 50.0, 70.0, 55.0, 85.0, 30.0, 40.0, 130.0, 67.0, 67.0, 60.0, 15.0, 15.0, 20.0, 40.0, 70.0, 95.0, 35.0, 45.0, 55.0, 45.0, 50.0, 40.0, 50.0, 30.0, 70.0, 50.0, 80.0, 110.0, 85.0, 30.0, 30.0, 95.0, 15.0, 35.0, 110.0, 65.0, 91.0, 30.0, 85.0, 48.0, 33.0, 85.0, 15.0, 40.0, 45.0, 85.0, 30.0, 30.0, 30.0, 45.0, 85.0, 65.0, 75.0, 5.0, 85.0, 75.0, 115.0, 40.0, 55.0, 20.0, 30.0, 50.0, 50.0, 35.0, 30.0, 65.0, 45.0, 75.0, 70.0, 70.0, 65.0, 95.0, 115.0, 85.0, 40.0, 50.0, 60.0, 85.0, 75.0, 35.0, 70.0, 65.0, 95.0, 83.0, 100.0, 55.0, 115.0, 100.0, 85.0, 41.0, 51.0, 61.0, 71.0, 110.0, 90.0, 100.0, 70.0, 95.0, 120.0, 145.0, 45.0, 55.0, 80.0, 100.0, 40.0, 50.0, 60.0, 70.0, 35.0, 70.0, 60.0, 60.0, 100.0, 100.0, 20.0, 15.0, 65.0, 15.0, 65.0, 30.0, 50.0, 70.0, 30.0, 60.0, 80.0, 85.0, 125.0, 85.0, 65.0, 40.0, 50.0, 80.0, 100.0, 65.0, 80.0, 35.0, 70.0, 30.0, 90.0, 100.0, 40.0, 160.0, 40.0, 28.0, 48.0, 68.0, 25.0, 50.0, 20.0, 30.0, 50.0, 90.0, 50.0, 20.0, 50.0, 50.0, 30.0, 40.0, 50.0, 50.0, 60.0, 80.0, 100.0, 65.0, 105.0, 135.0, 95.0, 95.0, 85.0, 85.0, 65.0, 40.0, 55.0, 65.0, 95.0, 105.0, 60.0, 60.0, 35.0, 40.0, 20.0, 20.0, 60.0, 80.0, 60.0, 10.0, 70.0, 100.0, 35.0, 55.0, 50.0, 80.0, 80.0, 90.0, 65.0, 70.0, 70.0, 60.0, 60.0, 35.0, 55.0, 55.0, 75.0, 23.0, 43.0, 75.0, 45.0, 80.0, 81.0, 70.0, 70.0, 70.0, 70.0, 40.0, 45.0, 65.0, 75.0, 25.0, 25.0, 51.0, 65.0, 75.0, 115.0, 23.0, 50.0, 80.0, 100.0, 25.0, 45.0, 65.0, 32.0, 52.0, 52.0, 55.0, 97.0, 50.0, 50.0, 100.0, 120.0, 30.0, 50.0, 70.0, 110.0, 50.0, 50.0, 50.0, 110.0, 110.0, 110.0, 110.0, 90.0, 90.0, 90.0, 90.0, 95.0, 115.0, 100.0, 150.0, 150.0, 90.0, 180.0, 31.0, 36.0, 56.0, 61.0, 81.0, 108.0, 40.0, 50.0, 60.0, 60.0, 80.0, 100.0, 31.0, 71.0, 25.0, 65.0, 45.0, 60.0, 70.0, 55.0, 90.0, 58.0, 58.0, 30.0, 30.0, 36.0, 36.0, 36.0, 36.0, 66.0, 70.0, 40.0, 95.0, 85.0, 115.0, 35.0, 85.0, 34.0, 39.0, 115.0, 70.0, 80.0, 85.0, 105.0, 135.0, 105.0, 71.0, 85.0, 112.0, 45.0, 74.0, 84.0, 23.0, 33.0, 10.0, 60.0, 30.0, 91.0, 35.0, 42.0, 82.0, 102.0, 92.0, 5.0, 60.0, 90.0, 112.0, 32.0, 47.0, 65.0, 95.0, 50.0, 85.0, 46.0, 66.0, 91.0, 50.0, 40.0, 60.0, 30.0, 125.0, 60.0, 50.0, 40.0, 50.0, 95.0, 83.0, 80.0, 95.0, 95.0, 65.0, 95.0, 80.0, 90.0, 80.0, 110.0, 40.0, 45.0, 110.0, 91.0, 86.0, 86.0, 86.0, 86.0, 86.0, 95.0, 80.0, 115.0, 90.0, 100.0, 77.0, 100.0, 90.0, 90.0, 85.0, 80.0, 100.0, 125.0, 100.0, 127.0, 120.0, 100.0, 63.0, 83.0, 113.0, 45.0, 55.0, 65.0, 45.0, 60.0, 70.0, 42.0, 77.0, 55.0, 60.0, 80.0, 66.0, 106.0, 64.0, 101.0, 64.0, 101.0, 64.0, 101.0, 24.0, 29.0, 43.0, 65.0, 93.0, 76.0, 116.0, 15.0, 20.0, 25.0, 72.0, 114.0, 68.0, 88.0, 50.0, 50.0, 35.0, 40.0, 45.0, 64.0, 69.0, 74.0, 45.0, 85.0, 42.0, 42.0, 92.0, 57.0, 47.0, 112.0, 66.0, 116.0, 30.0, 90.0, 98.0, 98.0, 65.0, 74.0, 92.0, 50.0, 50.0, 95.0, 55.0, 95.0, 135.0, 60.0, 55.0, 45.0, 48.0, 58.0, 97.0, 30.0, 30.0, 30.0, 22.0, 32.0, 70.0, 110.0, 65.0, 75.0, 65.0, 105.0, 75.0, 115.0, 45.0, 55.0, 65.0, 20.0, 30.0, 30.0, 55.0, 98.0, 44.0, 59.0, 79.0, 75.0, 95.0, 103.0, 60.0, 20.0, 15.0, 30.0, 40.0, 60.0, 65.0, 65.0, 108.0, 10.0, 20.0, 30.0, 50.0, 90.0, 60.0, 40.0, 50.0, 30.0, 40.0, 20.0, 55.0, 80.0, 57.0, 67.0, 97.0, 40.0, 50.0, 105.0, 25.0, 145.0, 32.0, 32.0, 65.0, 105.0, 48.0, 35.0, 55.0, 60.0, 70.0, 55.0, 60.0, 80.0, 60.0, 80.0, 65.0, 109.0, 38.0, 58.0, 98.0, 60.0, 100.0, 108.0, 108.0, 108.0, 111.0, 121.0, 111.0, 101.0, 90.0, 90.0, 101.0, 91.0, 95.0, 95.0, 95.0, 108.0, 108.0, 90.0, 128.0, 99.0, 38.0, 57.0, 64.0, 60.0, 73.0, 104.0, 71.0, 97.0, 122.0, 132.0, 57.0, 78.0, 62.0, 84.0, 126.0, 35.0, 29.0, 89.0, 72.0, 106.0, 42.0, 52.0, 75.0, 52.0, 68.0, 43.0, 58.0, 102.0, 68.0, 104.0, 104.0, 28.0, 35.0, 60.0, 60.0, 23.0, 29.0, 49.0, 72.0, 45.0, 73.0, 50.0, 68.0, 30.0, 44.0, 44.0, 59.0, 70.0, 109.0, 48.0, 71.0, 46.0, 58.0, 60.0, 118.0, 101.0, 50.0, 40.0, 60.0, 80.0, 75.0, 38.0, 56.0, 51.0, 56.0, 46.0, 41.0, 84.0, 99.0, 69.0, 54.0, 28.0, 28.0, 55.0, 123.0, 99.0, 99.0, 95.0, 115.0, 85.0, 50.0, 110.0, 70.0, 80.0, 70.0, 42.0, 52.0, 70.0, 70.0, 90.0, 60.0, 40.0, 50.0, 60.0, 65.0, 75.0, 60.0, 45.0, 45.0, 46.0, 36.0, 43.0, 63.0, 43.0, 93.0, 93.0, 93.0, 93.0, 84.0, 124.0, 60.0, 60.0, 112.0, 82.0, 110.0, 40.0, 30.0, 45.0, 35.0, 45.0, 35.0, 27.0, 42.0, 35.0, 45.0, 15.0, 30.0, 77.0, 117.0, 50.0, 60.0, 32.0, 62.0, 72.0, 100.0, 60.0, 80.0, 80.0, 40.0, 15.0, 35.0, 5.0, 59.0, 95.0, 60.0, 120.0, 65.0, 36.0, 96.0, 96.0, 92.0, 36.0, 40.0, 45.0, 65.0, 85.0, 130.0, 95.0, 75.0, 85.0, 37.0, 37.0, 97.0, 97.0, 103.0, 79.0, 151.0, 83.0, 61.0, 109.0, 43.0, 79.0, 77.0, 77.0, 129.0, 65.0, 125.0, 73.0, 121.0, 13.0, 107.0, 143.0, 34.0, 34.0, 65.0, 80.0, 85.0, 69.0, 94.0, 119.0, 70.0, 90.0, 120.0, 25.0, 20.0, 57.0, 77.0, 67.0, 45.0, 30.0, 90.0, 50.0, 90.0, 10.0, 60.0, 48.0, 88.0, 44.0, 74.0, 26.0, 121.0, 30.0, 50.0, 30.0, 20.0, 70.0, 30.0, 46.0, 71.0, 85.0, 66.0, 136.0, 40.0, 75.0, 75.0, 45.0, 65.0, 32.0, 42.0, 50.0, 70.0, 39.0, 49.0, 29.0, 50.0, 70.0, 60.0, 95.0, 50.0, 30.0, 65.0, 70.0, 30.0, 34.0, 64.0, 75.0, 15.0, 20.0, 65.0, 70.0, 50.0, 130.0, 95.0, 85.0, 97.0, 97.0, 40.0, 30.0, 75.0, 55.0, 75.0, 55.0, 85.0, 82.0, 102.0, 142.0, 148.0, 138.0, 128.0, 138.0, 130.0, 130.0]}],\n",
              "                        {\"coloraxis\": {\"colorbar\": {\"title\": {\"text\": \"weight_kg\"}}, \"colorscale\": [[0.0, \"#0d0887\"], [0.1111111111111111, \"#46039f\"], [0.2222222222222222, \"#7201a8\"], [0.3333333333333333, \"#9c179e\"], [0.4444444444444444, \"#bd3786\"], [0.5555555555555556, \"#d8576b\"], [0.6666666666666666, \"#ed7953\"], [0.7777777777777778, \"#fb9f3a\"], [0.8888888888888888, \"#fdca26\"], [1.0, \"#f0f921\"]]}, \"legend\": {\"tracegroupgap\": 0}, \"margin\": {\"t\": 60}, \"scene\": {\"domain\": {\"x\": [0.0, 1.0], \"y\": [0.0, 1.0]}, \"xaxis\": {\"title\": {\"text\": \"sp_attack\"}}, \"yaxis\": {\"title\": {\"text\": \"sp_defense\"}}, \"zaxis\": {\"title\": {\"text\": \"speed\"}}}, \"template\": {\"data\": {\"bar\": [{\"error_x\": {\"color\": \"#2a3f5f\"}, \"error_y\": {\"color\": \"#2a3f5f\"}, \"marker\": {\"line\": {\"color\": \"#E5ECF6\", \"width\": 0.5}}, \"type\": \"bar\"}], \"barpolar\": [{\"marker\": {\"line\": {\"color\": \"#E5ECF6\", \"width\": 0.5}}, \"type\": \"barpolar\"}], \"carpet\": [{\"aaxis\": {\"endlinecolor\": \"#2a3f5f\", \"gridcolor\": \"white\", \"linecolor\": \"white\", \"minorgridcolor\": \"white\", \"startlinecolor\": \"#2a3f5f\"}, \"baxis\": {\"endlinecolor\": \"#2a3f5f\", \"gridcolor\": \"white\", \"linecolor\": \"white\", \"minorgridcolor\": \"white\", \"startlinecolor\": \"#2a3f5f\"}, \"type\": \"carpet\"}], \"choropleth\": [{\"colorbar\": {\"outlinewidth\": 0, \"ticks\": \"\"}, \"type\": \"choropleth\"}], \"contour\": [{\"colorbar\": {\"outlinewidth\": 0, \"ticks\": \"\"}, \"colorscale\": [[0.0, \"#0d0887\"], [0.1111111111111111, \"#46039f\"], [0.2222222222222222, \"#7201a8\"], [0.3333333333333333, \"#9c179e\"], [0.4444444444444444, \"#bd3786\"], [0.5555555555555556, \"#d8576b\"], [0.6666666666666666, \"#ed7953\"], [0.7777777777777778, \"#fb9f3a\"], [0.8888888888888888, \"#fdca26\"], [1.0, \"#f0f921\"]], \"type\": \"contour\"}], \"contourcarpet\": [{\"colorbar\": {\"outlinewidth\": 0, \"ticks\": \"\"}, \"type\": \"contourcarpet\"}], \"heatmap\": [{\"colorbar\": {\"outlinewidth\": 0, \"ticks\": \"\"}, \"colorscale\": [[0.0, \"#0d0887\"], [0.1111111111111111, \"#46039f\"], [0.2222222222222222, \"#7201a8\"], [0.3333333333333333, \"#9c179e\"], [0.4444444444444444, \"#bd3786\"], [0.5555555555555556, \"#d8576b\"], [0.6666666666666666, \"#ed7953\"], [0.7777777777777778, \"#fb9f3a\"], [0.8888888888888888, \"#fdca26\"], [1.0, \"#f0f921\"]], \"type\": \"heatmap\"}], \"heatmapgl\": [{\"colorbar\": {\"outlinewidth\": 0, \"ticks\": \"\"}, \"colorscale\": [[0.0, \"#0d0887\"], [0.1111111111111111, \"#46039f\"], [0.2222222222222222, \"#7201a8\"], [0.3333333333333333, \"#9c179e\"], [0.4444444444444444, \"#bd3786\"], [0.5555555555555556, \"#d8576b\"], [0.6666666666666666, \"#ed7953\"], [0.7777777777777778, \"#fb9f3a\"], [0.8888888888888888, \"#fdca26\"], [1.0, \"#f0f921\"]], \"type\": \"heatmapgl\"}], \"histogram\": [{\"marker\": {\"colorbar\": {\"outlinewidth\": 0, \"ticks\": \"\"}}, \"type\": \"histogram\"}], \"histogram2d\": [{\"colorbar\": {\"outlinewidth\": 0, \"ticks\": \"\"}, \"colorscale\": [[0.0, \"#0d0887\"], [0.1111111111111111, \"#46039f\"], [0.2222222222222222, \"#7201a8\"], [0.3333333333333333, \"#9c179e\"], [0.4444444444444444, \"#bd3786\"], [0.5555555555555556, \"#d8576b\"], [0.6666666666666666, \"#ed7953\"], [0.7777777777777778, \"#fb9f3a\"], [0.8888888888888888, \"#fdca26\"], [1.0, \"#f0f921\"]], \"type\": \"histogram2d\"}], \"histogram2dcontour\": [{\"colorbar\": {\"outlinewidth\": 0, \"ticks\": \"\"}, \"colorscale\": [[0.0, \"#0d0887\"], [0.1111111111111111, \"#46039f\"], [0.2222222222222222, \"#7201a8\"], [0.3333333333333333, \"#9c179e\"], [0.4444444444444444, \"#bd3786\"], [0.5555555555555556, \"#d8576b\"], [0.6666666666666666, \"#ed7953\"], [0.7777777777777778, \"#fb9f3a\"], [0.8888888888888888, \"#fdca26\"], [1.0, \"#f0f921\"]], \"type\": \"histogram2dcontour\"}], \"mesh3d\": [{\"colorbar\": {\"outlinewidth\": 0, \"ticks\": \"\"}, \"type\": \"mesh3d\"}], \"parcoords\": [{\"line\": {\"colorbar\": {\"outlinewidth\": 0, \"ticks\": \"\"}}, \"type\": \"parcoords\"}], \"pie\": [{\"automargin\": true, \"type\": \"pie\"}], \"scatter\": [{\"marker\": {\"colorbar\": {\"outlinewidth\": 0, \"ticks\": \"\"}}, \"type\": \"scatter\"}], \"scatter3d\": [{\"line\": {\"colorbar\": {\"outlinewidth\": 0, \"ticks\": \"\"}}, \"marker\": {\"colorbar\": {\"outlinewidth\": 0, \"ticks\": \"\"}}, \"type\": \"scatter3d\"}], \"scattercarpet\": [{\"marker\": {\"colorbar\": {\"outlinewidth\": 0, \"ticks\": \"\"}}, \"type\": \"scattercarpet\"}], \"scattergeo\": [{\"marker\": {\"colorbar\": {\"outlinewidth\": 0, \"ticks\": \"\"}}, \"type\": \"scattergeo\"}], \"scattergl\": [{\"marker\": {\"colorbar\": {\"outlinewidth\": 0, \"ticks\": \"\"}}, \"type\": \"scattergl\"}], \"scattermapbox\": [{\"marker\": {\"colorbar\": {\"outlinewidth\": 0, \"ticks\": \"\"}}, \"type\": \"scattermapbox\"}], \"scatterpolar\": [{\"marker\": {\"colorbar\": {\"outlinewidth\": 0, \"ticks\": \"\"}}, \"type\": \"scatterpolar\"}], \"scatterpolargl\": [{\"marker\": {\"colorbar\": {\"outlinewidth\": 0, \"ticks\": \"\"}}, \"type\": \"scatterpolargl\"}], \"scatterternary\": [{\"marker\": {\"colorbar\": {\"outlinewidth\": 0, \"ticks\": \"\"}}, \"type\": \"scatterternary\"}], \"surface\": [{\"colorbar\": {\"outlinewidth\": 0, \"ticks\": \"\"}, \"colorscale\": [[0.0, \"#0d0887\"], [0.1111111111111111, \"#46039f\"], [0.2222222222222222, \"#7201a8\"], [0.3333333333333333, \"#9c179e\"], [0.4444444444444444, \"#bd3786\"], [0.5555555555555556, \"#d8576b\"], [0.6666666666666666, \"#ed7953\"], [0.7777777777777778, \"#fb9f3a\"], [0.8888888888888888, \"#fdca26\"], [1.0, \"#f0f921\"]], \"type\": \"surface\"}], \"table\": [{\"cells\": {\"fill\": {\"color\": \"#EBF0F8\"}, \"line\": {\"color\": \"white\"}}, \"header\": {\"fill\": {\"color\": \"#C8D4E3\"}, \"line\": {\"color\": \"white\"}}, \"type\": \"table\"}]}, \"layout\": {\"annotationdefaults\": {\"arrowcolor\": \"#2a3f5f\", \"arrowhead\": 0, \"arrowwidth\": 1}, \"coloraxis\": {\"colorbar\": {\"outlinewidth\": 0, \"ticks\": \"\"}}, \"colorscale\": {\"diverging\": [[0, \"#8e0152\"], [0.1, \"#c51b7d\"], [0.2, \"#de77ae\"], [0.3, \"#f1b6da\"], [0.4, \"#fde0ef\"], [0.5, \"#f7f7f7\"], [0.6, \"#e6f5d0\"], [0.7, \"#b8e186\"], [0.8, \"#7fbc41\"], [0.9, \"#4d9221\"], [1, \"#276419\"]], \"sequential\": [[0.0, \"#0d0887\"], [0.1111111111111111, \"#46039f\"], [0.2222222222222222, \"#7201a8\"], [0.3333333333333333, \"#9c179e\"], [0.4444444444444444, \"#bd3786\"], [0.5555555555555556, \"#d8576b\"], [0.6666666666666666, \"#ed7953\"], [0.7777777777777778, \"#fb9f3a\"], [0.8888888888888888, \"#fdca26\"], [1.0, \"#f0f921\"]], \"sequentialminus\": [[0.0, \"#0d0887\"], [0.1111111111111111, \"#46039f\"], [0.2222222222222222, \"#7201a8\"], [0.3333333333333333, \"#9c179e\"], [0.4444444444444444, \"#bd3786\"], [0.5555555555555556, \"#d8576b\"], [0.6666666666666666, \"#ed7953\"], [0.7777777777777778, \"#fb9f3a\"], [0.8888888888888888, \"#fdca26\"], [1.0, \"#f0f921\"]]}, \"colorway\": [\"#636efa\", \"#EF553B\", \"#00cc96\", \"#ab63fa\", \"#FFA15A\", \"#19d3f3\", \"#FF6692\", \"#B6E880\", \"#FF97FF\", \"#FECB52\"], \"font\": {\"color\": \"#2a3f5f\"}, \"geo\": {\"bgcolor\": \"white\", \"lakecolor\": \"white\", \"landcolor\": \"#E5ECF6\", \"showlakes\": true, \"showland\": true, \"subunitcolor\": \"white\"}, \"hoverlabel\": {\"align\": \"left\"}, \"hovermode\": \"closest\", \"mapbox\": {\"style\": \"light\"}, \"paper_bgcolor\": \"white\", \"plot_bgcolor\": \"#E5ECF6\", \"polar\": {\"angularaxis\": {\"gridcolor\": \"white\", \"linecolor\": \"white\", \"ticks\": \"\"}, \"bgcolor\": \"#E5ECF6\", \"radialaxis\": {\"gridcolor\": \"white\", \"linecolor\": \"white\", \"ticks\": \"\"}}, \"scene\": {\"xaxis\": {\"backgroundcolor\": \"#E5ECF6\", \"gridcolor\": \"white\", \"gridwidth\": 2, \"linecolor\": \"white\", \"showbackground\": true, \"ticks\": \"\", \"zerolinecolor\": \"white\"}, \"yaxis\": {\"backgroundcolor\": \"#E5ECF6\", \"gridcolor\": \"white\", \"gridwidth\": 2, \"linecolor\": \"white\", \"showbackground\": true, \"ticks\": \"\", \"zerolinecolor\": \"white\"}, \"zaxis\": {\"backgroundcolor\": \"#E5ECF6\", \"gridcolor\": \"white\", \"gridwidth\": 2, \"linecolor\": \"white\", \"showbackground\": true, \"ticks\": \"\", \"zerolinecolor\": \"white\"}}, \"shapedefaults\": {\"line\": {\"color\": \"#2a3f5f\"}}, \"ternary\": {\"aaxis\": {\"gridcolor\": \"white\", \"linecolor\": \"white\", \"ticks\": \"\"}, \"baxis\": {\"gridcolor\": \"white\", \"linecolor\": \"white\", \"ticks\": \"\"}, \"bgcolor\": \"#E5ECF6\", \"caxis\": {\"gridcolor\": \"white\", \"linecolor\": \"white\", \"ticks\": \"\"}}, \"title\": {\"x\": 0.05}, \"xaxis\": {\"automargin\": true, \"gridcolor\": \"white\", \"linecolor\": \"white\", \"ticks\": \"\", \"title\": {\"standoff\": 15}, \"zerolinecolor\": \"white\", \"zerolinewidth\": 2}, \"yaxis\": {\"automargin\": true, \"gridcolor\": \"white\", \"linecolor\": \"white\", \"ticks\": \"\", \"title\": {\"standoff\": 15}, \"zerolinecolor\": \"white\", \"zerolinewidth\": 2}}}},\n",
              "                        {\"responsive\": true}\n",
              "                    ).then(function(){\n",
              "                            \n",
              "var gd = document.getElementById('be9b2fab-fbff-428f-96d1-5aef9804f991');\n",
              "var x = new MutationObserver(function (mutations, observer) {{\n",
              "        var display = window.getComputedStyle(gd).display;\n",
              "        if (!display || display === 'none') {{\n",
              "            console.log([gd, 'removed!']);\n",
              "            Plotly.purge(gd);\n",
              "            observer.disconnect();\n",
              "        }}\n",
              "}});\n",
              "\n",
              "// Listen for the removal of the full notebook cells\n",
              "var notebookContainer = gd.closest('#notebook-container');\n",
              "if (notebookContainer) {{\n",
              "    x.observe(notebookContainer, {childList: true});\n",
              "}}\n",
              "\n",
              "// Listen for the clearing of the current output cell\n",
              "var outputEl = gd.closest('.output');\n",
              "if (outputEl) {{\n",
              "    x.observe(outputEl, {childList: true});\n",
              "}}\n",
              "\n",
              "                        })\n",
              "                };\n",
              "                \n",
              "            </script>\n",
              "        </div>\n",
              "</body>\n",
              "</html>"
            ]
          },
          "metadata": {}
        }
      ]
    },
    {
      "cell_type": "markdown",
      "metadata": {
        "id": "MueBE3MYRrEA"
      },
      "source": [
        "#  Exercice **2** "
      ]
    },
    {
      "cell_type": "code",
      "metadata": {
        "id": "uRqkEF8mSkSf"
      },
      "source": [
        "import pandas\n",
        "import matplotlib.pyplot as plt\n"
      ],
      "execution_count": null,
      "outputs": []
    },
    {
      "cell_type": "code",
      "metadata": {
        "id": "F8SVvO_bSsPr"
      },
      "source": [
        "dataset= pandas.read_csv(\"https://raw.githubusercontent.com/AchrefHamdi/Data-Science/main/train.csv\")"
      ],
      "execution_count": null,
      "outputs": []
    },
    {
      "cell_type": "code",
      "metadata": {
        "id": "n7RKGwzdS3Au"
      },
      "source": [
        "dataset.info()"
      ],
      "execution_count": null,
      "outputs": []
    },
    {
      "cell_type": "code",
      "metadata": {
        "id": "20iZ8k3CUZF4"
      },
      "source": [
        "dataset.describe()"
      ],
      "execution_count": null,
      "outputs": []
    },
    {
      "cell_type": "code",
      "metadata": {
        "id": "LpkqkyVAUeVa"
      },
      "source": [
        "dataset.shape"
      ],
      "execution_count": null,
      "outputs": []
    },
    {
      "cell_type": "code",
      "metadata": {
        "id": "AkuUzcVfWsPg"
      },
      "source": [
        "dataset.SalePrice.plot.hist(bins=500)"
      ],
      "execution_count": null,
      "outputs": []
    },
    {
      "cell_type": "code",
      "metadata": {
        "id": "QFaKL6z3XPkM"
      },
      "source": [
        "import seaborn as sns"
      ],
      "execution_count": null,
      "outputs": []
    },
    {
      "cell_type": "code",
      "metadata": {
        "id": "i99XkxxOXSYw"
      },
      "source": [
        "# n7ebou na3rfou anahouma les donnees illi 3andhom 3la9a b \"SalePrice\" \n",
        "# adheka 3lech nessta3mlou corr(corrilation)\n",
        "top_corr = sorted(list(zip(dataset.corr()['SalePrice'].values > 0.5 , dataset.columns) ), reverse=True) \n"
      ],
      "execution_count": null,
      "outputs": []
    },
    {
      "cell_type": "code",
      "metadata": {
        "id": "OlnGXU1IcAnN"
      },
      "source": [
        "top_corr"
      ],
      "execution_count": null,
      "outputs": []
    },
    {
      "cell_type": "code",
      "metadata": {
        "colab": {
          "base_uri": "https://localhost:8080/",
          "height": 296
        },
        "id": "hrBJoE8RdOoV",
        "outputId": "a3e78ae3-bdfc-4852-ade5-21bde4fbf7ba"
      },
      "source": [
        "# n7ebou na3rfou el 3ale9a bin Sale Price w les top_corr \n",
        "dataset.plot.scatter(x='SalePrice', y='YearBuilt')"
      ],
      "execution_count": null,
      "outputs": [
        {
          "output_type": "execute_result",
          "data": {
            "text/plain": [
              "<matplotlib.axes._subplots.AxesSubplot at 0x7f70cfe88290>"
            ]
          },
          "metadata": {},
          "execution_count": 71
        },
        {
          "output_type": "display_data",
          "data": {
            "image/png": "[encoded data removed]",
            "text/plain": [
              "<Figure size 432x288 with 1 Axes>"
            ]
          },
          "metadata": {
            "needs_background": "light"
          }
        }
      ]
    },
    {
      "cell_type": "code",
      "metadata": {
        "colab": {
          "base_uri": "https://localhost:8080/",
          "height": 296
        },
        "id": "pmLafJV7eTii",
        "outputId": "f72b7351-eb18-4964-87e2-33d133c55edf"
      },
      "source": [
        "sns.violinplot (x='RoofStyle',y='SalePrice' ,data=dataset)"
      ],
      "execution_count": null,
      "outputs": [
        {
          "output_type": "execute_result",
          "data": {
            "text/plain": [
              "<matplotlib.axes._subplots.AxesSubplot at 0x7f70cc158510>"
            ]
          },
          "metadata": {},
          "execution_count": 78
        },
        {
          "output_type": "display_data",
          "data": {
            "image/png": "[encoded data removed]",
            "text/plain": [
              "<Figure size 432x288 with 1 Axes>"
            ]
          },
          "metadata": {
            "needs_background": "light"
          }
        }
      ]
    },
    {
      "cell_type": "code",
      "metadata": {
        "colab": {
          "base_uri": "https://localhost:8080/",
          "height": 296
        },
        "id": "u5r89MWSh15m",
        "outputId": "2ae0c32f-5720-4d59-b5d7-afb9d8392585"
      },
      "source": [
        "dataset.plot.scatter(y='GrLivArea', x='SalePrice')"
      ],
      "execution_count": null,
      "outputs": [
        {
          "output_type": "execute_result",
          "data": {
            "text/plain": [
              "<matplotlib.axes._subplots.AxesSubplot at 0x7f70cbd78a10>"
            ]
          },
          "metadata": {},
          "execution_count": 87
        },
        {
          "output_type": "display_data",
          "data": {
            "image/png": "[encoded data removed]",
            "text/plain": [
              "<Figure size 432x288 with 1 Axes>"
            ]
          },
          "metadata": {
            "needs_background": "light"
          }
        }
      ]
    },
    {
      "cell_type": "code",
      "metadata": {
        "id": "pVym_1eCqr6F"
      },
      "source": [
        "dataset.shape"
      ],
      "execution_count": null,
      "outputs": []
    },
    {
      "cell_type": "code",
      "metadata": {
        "id": "Ud_L43b4bfyi"
      },
      "source": [
        "features = dataset[['YearBuilt','Neighborhood','MasVnrArea','LotShape','LotArea','HouseStyle','Exterior1st','ExterQual','Condition1','BsmtUnfSF','Alley','Street','RoofStyle','OverallCond','GrLivArea']]"
      ],
      "execution_count": null,
      "outputs": []
    },
    {
      "cell_type": "code",
      "metadata": {
        "id": "_oXNKjd4jNF7"
      },
      "source": [
        "# Il ya des colonnes de types non numerique (objet) \n",
        "# Il faut les convertir en numerqiue \n",
        "\n",
        "pandas.get_dummies(dataset.select_dtypes(include=['object','string']))"
      ],
      "execution_count": null,
      "outputs": []
    },
    {
      "cell_type": "code",
      "metadata": {
        "id": "PYMXr4Q2zhCt"
      },
      "source": [
        "features=dataset[['YearBuilt','OverallCond','GrLivArea']]\n",
        "labels = dataset.SalePrice"
      ],
      "execution_count": null,
      "outputs": []
    },
    {
      "cell_type": "code",
      "metadata": {
        "id": "3R_RWrMf0J0J"
      },
      "source": [
        "from sklearn.model_selection import train_test_split\n",
        "X_train, X_test, y_train, y_test = train_test_split(features, labels, test_size=0.2, random_state=42)"
      ],
      "execution_count": null,
      "outputs": []
    },
    {
      "cell_type": "code",
      "metadata": {
        "id": "l5Nz0GlR0q6W"
      },
      "source": [
        "# Modeling LogisticRegression\n",
        "# lezimni se3a n'importi les models\n",
        "from sklearn.linear_model import LogisticRegression\n",
        "from sklearn.neighbors import KNeighborsClassifier\n",
        "from sklearn.svm import SVC\n",
        "from sklearn.tree import DecisionTreeClassifier\n",
        "\n",
        "# lezimni na3mel instance lil model kima fi orienté objet\n",
        "log = LogisticRegression()\n",
        "knn = KNeighborsClassifier()\n",
        "svm = SVC()\n",
        "tree = DecisionTreeClassifier()\n",
        "#0.018 0.015\n",
        "#0.017 0.019\n",
        "#0.224 0.003\n",
        "#0.981 0.014"
      ],
      "execution_count": null,
      "outputs": []
    },
    {
      "cell_type": "code",
      "metadata": {
        "colab": {
          "base_uri": "https://localhost:8080/"
        },
        "id": "HC5M4VBD03Df",
        "outputId": "a828439a-4d68-419d-8aad-7b52001fc5e4"
      },
      "source": [
        "# Training\n",
        "for model in [log, svm, knn, tree]:\n",
        "  model.fit(X_train, y_train)\n",
        "  train_acc = model.score(X_train, y_train)\n",
        "  test_acc = model.score(X_test, y_test)\n",
        "  print(round(train_acc,3), round(test_acc,3))"
      ],
      "execution_count": null,
      "outputs": [
        {
          "output_type": "stream",
          "name": "stdout",
          "text": [
            "0.021 0.01\n",
            "0.019 0.007\n",
            "0.223 0.007\n",
            "0.973 0.007\n"
          ]
        }
      ]
    },
    {
      "cell_type": "code",
      "metadata": {
        "colab": {
          "base_uri": "https://localhost:8080/"
        },
        "id": "_1rQYKaF7z_r",
        "outputId": "a789e246-ca4e-4a93-b272-9a9fd0cbc45d"
      },
      "source": [
        "model.predict(features)"
      ],
      "execution_count": null,
      "outputs": [
        {
          "output_type": "execute_result",
          "data": {
            "text/plain": [
              "array([208500, 181500, 223500, ..., 266500, 142125, 147500])"
            ]
          },
          "metadata": {},
          "execution_count": 180
        }
      ]
    },
    {
      "cell_type": "code",
      "metadata": {
        "id": "Wz3CVCoy8uRC"
      },
      "source": [
        "predictions = model.predict(features)"
      ],
      "execution_count": null,
      "outputs": []
    },
    {
      "cell_type": "code",
      "metadata": {
        "colab": {
          "base_uri": "https://localhost:8080/"
        },
        "id": "fLsXgNTp83IR",
        "outputId": "cf6f2785-53dd-4cb0-ac8e-a205aec9388a"
      },
      "source": [
        "from sklearn.metrics import mean_squared_error\n",
        "mean_squared_error(predictions , labels)"
      ],
      "execution_count": null,
      "outputs": [
        {
          "output_type": "execute_result",
          "data": {
            "text/plain": [
              "458967224.91780823"
            ]
          },
          "metadata": {},
          "execution_count": 199
        }
      ]
    },
    {
      "cell_type": "code",
      "metadata": {
        "colab": {
          "base_uri": "https://localhost:8080/"
        },
        "id": "gSgUwgq49Hyh",
        "outputId": "cf7bd32b-3545-4517-f69f-cb252c49dcb0"
      },
      "source": [
        "rmse"
      ],
      "execution_count": null,
      "outputs": [
        {
          "output_type": "execute_result",
          "data": {
            "text/plain": [
              "818591.5638338816"
            ]
          },
          "metadata": {},
          "execution_count": 200
        }
      ]
    },
    {
      "cell_type": "code",
      "metadata": {
        "id": "v2HA1a-79KmF"
      },
      "source": [
        "labels.describe()"
      ],
      "execution_count": null,
      "outputs": []
    },
    {
      "cell_type": "code",
      "metadata": {
        "colab": {
          "base_uri": "https://localhost:8080/",
          "height": 281
        },
        "id": "FUVmoS3_AErK",
        "outputId": "99d5a833-6ea8-414a-83af-5e9947a7a828"
      },
      "source": [
        "plt.scatter(labels , predictions)\n",
        "plt.plot([10000.,800000.], [10000.,800000.],'-')"
      ],
      "execution_count": null,
      "outputs": [
        {
          "output_type": "execute_result",
          "data": {
            "text/plain": [
              "[<matplotlib.lines.Line2D at 0x7f70c6390490>]"
            ]
          },
          "metadata": {},
          "execution_count": 208
        },
        {
          "output_type": "display_data",
          "data": {
            "image/png": "[encoded data removed]",
            "text/plain": [
              "<Figure size 432x288 with 1 Axes>"
            ]
          },
          "metadata": {
            "needs_background": "light"
          }
        }
      ]
    }
  ]
}